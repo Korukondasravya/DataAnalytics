{
 "cells": [
  {
   "cell_type": "code",
   "execution_count": 1,
   "id": "5520a650-6c11-4909-96ca-7d0b88821deb",
   "metadata": {},
   "outputs": [],
   "source": [
    "import pandas as pd\n",
    "import matplotlib.pyplot as plt\n",
    "import seaborn as sns\n",
    "df = pd.read_csv(\"MIDMARKS.csv\")"
   ]
  },
  {
   "cell_type": "code",
   "execution_count": 2,
   "id": "39e37518-5a4e-43c2-8c16-fb800c738832",
   "metadata": {},
   "outputs": [
    {
     "data": {
      "text/html": [
       "<div>\n",
       "<style scoped>\n",
       "    .dataframe tbody tr th:only-of-type {\n",
       "        vertical-align: middle;\n",
       "    }\n",
       "\n",
       "    .dataframe tbody tr th {\n",
       "        vertical-align: top;\n",
       "    }\n",
       "\n",
       "    .dataframe thead th {\n",
       "        text-align: right;\n",
       "    }\n",
       "</style>\n",
       "<table border=\"1\" class=\"dataframe\">\n",
       "  <thead>\n",
       "    <tr style=\"text-align: right;\">\n",
       "      <th></th>\n",
       "      <th>Unnamed: 0</th>\n",
       "      <th>DV</th>\n",
       "      <th>M-II</th>\n",
       "      <th>PP</th>\n",
       "      <th>BEEE</th>\n",
       "      <th>FL</th>\n",
       "      <th>FIMS</th>\n",
       "    </tr>\n",
       "  </thead>\n",
       "  <tbody>\n",
       "    <tr>\n",
       "      <th>0</th>\n",
       "      <td>ALPHA</td>\n",
       "      <td>0.810</td>\n",
       "      <td>NaN</td>\n",
       "      <td>NaN</td>\n",
       "      <td>NaN</td>\n",
       "      <td>NaN</td>\n",
       "      <td>NaN</td>\n",
       "    </tr>\n",
       "    <tr>\n",
       "      <th>1</th>\n",
       "      <td>BETA</td>\n",
       "      <td>0.810</td>\n",
       "      <td>NaN</td>\n",
       "      <td>NaN</td>\n",
       "      <td>NaN</td>\n",
       "      <td>NaN</td>\n",
       "      <td>NaN</td>\n",
       "    </tr>\n",
       "    <tr>\n",
       "      <th>2</th>\n",
       "      <td>GAMMA</td>\n",
       "      <td>0.870</td>\n",
       "      <td>NaN</td>\n",
       "      <td>NaN</td>\n",
       "      <td>NaN</td>\n",
       "      <td>NaN</td>\n",
       "      <td>NaN</td>\n",
       "    </tr>\n",
       "    <tr>\n",
       "      <th>3</th>\n",
       "      <td>DELTA</td>\n",
       "      <td>0.840</td>\n",
       "      <td>NaN</td>\n",
       "      <td>NaN</td>\n",
       "      <td>NaN</td>\n",
       "      <td>NaN</td>\n",
       "      <td>NaN</td>\n",
       "    </tr>\n",
       "    <tr>\n",
       "      <th>4</th>\n",
       "      <td>SIGMA</td>\n",
       "      <td>0.950</td>\n",
       "      <td>NaN</td>\n",
       "      <td>NaN</td>\n",
       "      <td>NaN</td>\n",
       "      <td>NaN</td>\n",
       "      <td>NaN</td>\n",
       "    </tr>\n",
       "    <tr>\n",
       "      <th>5</th>\n",
       "      <td>OMEGA</td>\n",
       "      <td>0.880</td>\n",
       "      <td>NaN</td>\n",
       "      <td>NaN</td>\n",
       "      <td>NaN</td>\n",
       "      <td>NaN</td>\n",
       "      <td>NaN</td>\n",
       "    </tr>\n",
       "    <tr>\n",
       "      <th>6</th>\n",
       "      <td>EPSILON</td>\n",
       "      <td>0.950</td>\n",
       "      <td>NaN</td>\n",
       "      <td>NaN</td>\n",
       "      <td>NaN</td>\n",
       "      <td>NaN</td>\n",
       "      <td>NaN</td>\n",
       "    </tr>\n",
       "    <tr>\n",
       "      <th>7</th>\n",
       "      <td>ZETA</td>\n",
       "      <td>0.911</td>\n",
       "      <td>NaN</td>\n",
       "      <td>NaN</td>\n",
       "      <td>NaN</td>\n",
       "      <td>NaN</td>\n",
       "      <td>NaN</td>\n",
       "    </tr>\n",
       "  </tbody>\n",
       "</table>\n",
       "</div>"
      ],
      "text/plain": [
       "  Unnamed: 0     DV  M-II  PP  BEEE  FL  FIMS\n",
       "0      ALPHA  0.810   NaN NaN   NaN NaN   NaN\n",
       "1       BETA  0.810   NaN NaN   NaN NaN   NaN\n",
       "2      GAMMA  0.870   NaN NaN   NaN NaN   NaN\n",
       "3      DELTA  0.840   NaN NaN   NaN NaN   NaN\n",
       "4      SIGMA  0.950   NaN NaN   NaN NaN   NaN\n",
       "5      OMEGA  0.880   NaN NaN   NaN NaN   NaN\n",
       "6    EPSILON  0.950   NaN NaN   NaN NaN   NaN\n",
       "7       ZETA  0.911   NaN NaN   NaN NaN   NaN"
      ]
     },
     "execution_count": 2,
     "metadata": {},
     "output_type": "execute_result"
    }
   ],
   "source": [
    "df"
   ]
  },
  {
   "cell_type": "markdown",
   "id": "65a4957f-37de-43bb-a1e5-6b19e6db453b",
   "metadata": {},
   "source": [
    " Mid Marks Data"
   ]
  },
  {
   "cell_type": "code",
   "execution_count": 3,
   "id": "26dbe859-5be0-434d-b60d-667fba0ca3f3",
   "metadata": {},
   "outputs": [],
   "source": [
    "df.rename(columns={'M-II':'M2'},inplace=True) "
   ]
  },
  {
   "cell_type": "markdown",
   "id": "41a4be97-5b1e-43e9-9509-8b25fcea774f",
   "metadata": {},
   "source": [
    "Renaming M-II as M2"
   ]
  },
  {
   "cell_type": "code",
   "execution_count": 4,
   "id": "80ca99ce-48be-427e-812d-59e51d6be3fc",
   "metadata": {},
   "outputs": [
    {
     "data": {
      "text/html": [
       "<div>\n",
       "<style scoped>\n",
       "    .dataframe tbody tr th:only-of-type {\n",
       "        vertical-align: middle;\n",
       "    }\n",
       "\n",
       "    .dataframe tbody tr th {\n",
       "        vertical-align: top;\n",
       "    }\n",
       "\n",
       "    .dataframe thead th {\n",
       "        text-align: right;\n",
       "    }\n",
       "</style>\n",
       "<table border=\"1\" class=\"dataframe\">\n",
       "  <thead>\n",
       "    <tr style=\"text-align: right;\">\n",
       "      <th></th>\n",
       "      <th>Unnamed: 0</th>\n",
       "      <th>DV</th>\n",
       "      <th>M2</th>\n",
       "      <th>PP</th>\n",
       "      <th>BEEE</th>\n",
       "      <th>FL</th>\n",
       "      <th>FIMS</th>\n",
       "    </tr>\n",
       "  </thead>\n",
       "  <tbody>\n",
       "    <tr>\n",
       "      <th>0</th>\n",
       "      <td>ALPHA</td>\n",
       "      <td>0.810</td>\n",
       "      <td>NaN</td>\n",
       "      <td>NaN</td>\n",
       "      <td>NaN</td>\n",
       "      <td>NaN</td>\n",
       "      <td>NaN</td>\n",
       "    </tr>\n",
       "    <tr>\n",
       "      <th>1</th>\n",
       "      <td>BETA</td>\n",
       "      <td>0.810</td>\n",
       "      <td>NaN</td>\n",
       "      <td>NaN</td>\n",
       "      <td>NaN</td>\n",
       "      <td>NaN</td>\n",
       "      <td>NaN</td>\n",
       "    </tr>\n",
       "    <tr>\n",
       "      <th>2</th>\n",
       "      <td>GAMMA</td>\n",
       "      <td>0.870</td>\n",
       "      <td>NaN</td>\n",
       "      <td>NaN</td>\n",
       "      <td>NaN</td>\n",
       "      <td>NaN</td>\n",
       "      <td>NaN</td>\n",
       "    </tr>\n",
       "    <tr>\n",
       "      <th>3</th>\n",
       "      <td>DELTA</td>\n",
       "      <td>0.840</td>\n",
       "      <td>NaN</td>\n",
       "      <td>NaN</td>\n",
       "      <td>NaN</td>\n",
       "      <td>NaN</td>\n",
       "      <td>NaN</td>\n",
       "    </tr>\n",
       "    <tr>\n",
       "      <th>4</th>\n",
       "      <td>SIGMA</td>\n",
       "      <td>0.950</td>\n",
       "      <td>NaN</td>\n",
       "      <td>NaN</td>\n",
       "      <td>NaN</td>\n",
       "      <td>NaN</td>\n",
       "      <td>NaN</td>\n",
       "    </tr>\n",
       "    <tr>\n",
       "      <th>5</th>\n",
       "      <td>OMEGA</td>\n",
       "      <td>0.880</td>\n",
       "      <td>NaN</td>\n",
       "      <td>NaN</td>\n",
       "      <td>NaN</td>\n",
       "      <td>NaN</td>\n",
       "      <td>NaN</td>\n",
       "    </tr>\n",
       "    <tr>\n",
       "      <th>6</th>\n",
       "      <td>EPSILON</td>\n",
       "      <td>0.950</td>\n",
       "      <td>NaN</td>\n",
       "      <td>NaN</td>\n",
       "      <td>NaN</td>\n",
       "      <td>NaN</td>\n",
       "      <td>NaN</td>\n",
       "    </tr>\n",
       "    <tr>\n",
       "      <th>7</th>\n",
       "      <td>ZETA</td>\n",
       "      <td>0.911</td>\n",
       "      <td>NaN</td>\n",
       "      <td>NaN</td>\n",
       "      <td>NaN</td>\n",
       "      <td>NaN</td>\n",
       "      <td>NaN</td>\n",
       "    </tr>\n",
       "  </tbody>\n",
       "</table>\n",
       "</div>"
      ],
      "text/plain": [
       "  Unnamed: 0     DV  M2  PP  BEEE  FL  FIMS\n",
       "0      ALPHA  0.810 NaN NaN   NaN NaN   NaN\n",
       "1       BETA  0.810 NaN NaN   NaN NaN   NaN\n",
       "2      GAMMA  0.870 NaN NaN   NaN NaN   NaN\n",
       "3      DELTA  0.840 NaN NaN   NaN NaN   NaN\n",
       "4      SIGMA  0.950 NaN NaN   NaN NaN   NaN\n",
       "5      OMEGA  0.880 NaN NaN   NaN NaN   NaN\n",
       "6    EPSILON  0.950 NaN NaN   NaN NaN   NaN\n",
       "7       ZETA  0.911 NaN NaN   NaN NaN   NaN"
      ]
     },
     "execution_count": 4,
     "metadata": {},
     "output_type": "execute_result"
    }
   ],
   "source": [
    "df"
   ]
  },
  {
   "cell_type": "code",
   "execution_count": 5,
   "id": "ff78e40e-5efd-4938-baca-59182d38c6ce",
   "metadata": {},
   "outputs": [],
   "source": [
    "df['DV'] = pd.to_numeric(df['DV'], errors='coerce')\n",
    "df['M2'] = pd.to_numeric(df['M2'], errors='coerce')\n",
    "df['PP'] = pd.to_numeric(df['PP'], errors='coerce')\n",
    "df['BEEE'] = pd.to_numeric(df['BEEE'], errors='coerce')\n",
    "df['FL'] = pd.to_numeric(df['FL'], errors='coerce')\n",
    "df['FIMS'] = pd.to_numeric(df['FIMS'], errors='coerce')\n",
    "df.fillna(0, inplace=True)"
   ]
  },
  {
   "cell_type": "code",
   "execution_count": 6,
   "id": "241ce3fe-4d08-4afb-8987-5395258c2b74",
   "metadata": {},
   "outputs": [
    {
     "data": {
      "text/html": [
       "<div>\n",
       "<style scoped>\n",
       "    .dataframe tbody tr th:only-of-type {\n",
       "        vertical-align: middle;\n",
       "    }\n",
       "\n",
       "    .dataframe tbody tr th {\n",
       "        vertical-align: top;\n",
       "    }\n",
       "\n",
       "    .dataframe thead th {\n",
       "        text-align: right;\n",
       "    }\n",
       "</style>\n",
       "<table border=\"1\" class=\"dataframe\">\n",
       "  <thead>\n",
       "    <tr style=\"text-align: right;\">\n",
       "      <th></th>\n",
       "      <th>Unnamed: 0</th>\n",
       "      <th>DV</th>\n",
       "      <th>M2</th>\n",
       "      <th>PP</th>\n",
       "      <th>BEEE</th>\n",
       "      <th>FL</th>\n",
       "      <th>FIMS</th>\n",
       "      <th>Total</th>\n",
       "    </tr>\n",
       "  </thead>\n",
       "  <tbody>\n",
       "    <tr>\n",
       "      <th>0</th>\n",
       "      <td>ALPHA</td>\n",
       "      <td>0.810</td>\n",
       "      <td>0.0</td>\n",
       "      <td>0.0</td>\n",
       "      <td>0.0</td>\n",
       "      <td>0.0</td>\n",
       "      <td>0.0</td>\n",
       "      <td>0.810</td>\n",
       "    </tr>\n",
       "    <tr>\n",
       "      <th>1</th>\n",
       "      <td>BETA</td>\n",
       "      <td>0.810</td>\n",
       "      <td>0.0</td>\n",
       "      <td>0.0</td>\n",
       "      <td>0.0</td>\n",
       "      <td>0.0</td>\n",
       "      <td>0.0</td>\n",
       "      <td>0.810</td>\n",
       "    </tr>\n",
       "    <tr>\n",
       "      <th>2</th>\n",
       "      <td>GAMMA</td>\n",
       "      <td>0.870</td>\n",
       "      <td>0.0</td>\n",
       "      <td>0.0</td>\n",
       "      <td>0.0</td>\n",
       "      <td>0.0</td>\n",
       "      <td>0.0</td>\n",
       "      <td>0.870</td>\n",
       "    </tr>\n",
       "    <tr>\n",
       "      <th>3</th>\n",
       "      <td>DELTA</td>\n",
       "      <td>0.840</td>\n",
       "      <td>0.0</td>\n",
       "      <td>0.0</td>\n",
       "      <td>0.0</td>\n",
       "      <td>0.0</td>\n",
       "      <td>0.0</td>\n",
       "      <td>0.840</td>\n",
       "    </tr>\n",
       "    <tr>\n",
       "      <th>4</th>\n",
       "      <td>SIGMA</td>\n",
       "      <td>0.950</td>\n",
       "      <td>0.0</td>\n",
       "      <td>0.0</td>\n",
       "      <td>0.0</td>\n",
       "      <td>0.0</td>\n",
       "      <td>0.0</td>\n",
       "      <td>0.950</td>\n",
       "    </tr>\n",
       "    <tr>\n",
       "      <th>5</th>\n",
       "      <td>OMEGA</td>\n",
       "      <td>0.880</td>\n",
       "      <td>0.0</td>\n",
       "      <td>0.0</td>\n",
       "      <td>0.0</td>\n",
       "      <td>0.0</td>\n",
       "      <td>0.0</td>\n",
       "      <td>0.880</td>\n",
       "    </tr>\n",
       "    <tr>\n",
       "      <th>6</th>\n",
       "      <td>EPSILON</td>\n",
       "      <td>0.950</td>\n",
       "      <td>0.0</td>\n",
       "      <td>0.0</td>\n",
       "      <td>0.0</td>\n",
       "      <td>0.0</td>\n",
       "      <td>0.0</td>\n",
       "      <td>0.950</td>\n",
       "    </tr>\n",
       "    <tr>\n",
       "      <th>7</th>\n",
       "      <td>ZETA</td>\n",
       "      <td>0.911</td>\n",
       "      <td>0.0</td>\n",
       "      <td>0.0</td>\n",
       "      <td>0.0</td>\n",
       "      <td>0.0</td>\n",
       "      <td>0.0</td>\n",
       "      <td>0.911</td>\n",
       "    </tr>\n",
       "  </tbody>\n",
       "</table>\n",
       "</div>"
      ],
      "text/plain": [
       "  Unnamed: 0     DV   M2   PP  BEEE   FL  FIMS  Total\n",
       "0      ALPHA  0.810  0.0  0.0   0.0  0.0   0.0  0.810\n",
       "1       BETA  0.810  0.0  0.0   0.0  0.0   0.0  0.810\n",
       "2      GAMMA  0.870  0.0  0.0   0.0  0.0   0.0  0.870\n",
       "3      DELTA  0.840  0.0  0.0   0.0  0.0   0.0  0.840\n",
       "4      SIGMA  0.950  0.0  0.0   0.0  0.0   0.0  0.950\n",
       "5      OMEGA  0.880  0.0  0.0   0.0  0.0   0.0  0.880\n",
       "6    EPSILON  0.950  0.0  0.0   0.0  0.0   0.0  0.950\n",
       "7       ZETA  0.911  0.0  0.0   0.0  0.0   0.0  0.911"
      ]
     },
     "execution_count": 6,
     "metadata": {},
     "output_type": "execute_result"
    }
   ],
   "source": [
    "df['Total'] = df['DV'] + df['M2'] + df['PP'] + df['BEEE'] + df['FL'] + df['FIMS']\n",
    "\n",
    "df\n"
   ]
  },
  {
   "cell_type": "markdown",
   "id": "3aac1667-aedc-4699-a6f1-22c99d8e5312",
   "metadata": {},
   "source": [
    "Calculating total"
   ]
  },
  {
   "cell_type": "code",
   "execution_count": 7,
   "id": "95bb8c4d-c377-4ccd-9a45-a50c84d59c11",
   "metadata": {},
   "outputs": [],
   "source": [
    "df[\"Percentage\"] = (df['Total']/120)*100"
   ]
  },
  {
   "cell_type": "code",
   "execution_count": 8,
   "id": "b3dbd0d6-38ba-4983-a6b1-1975ae1cf25b",
   "metadata": {},
   "outputs": [
    {
     "data": {
      "text/html": [
       "<div>\n",
       "<style scoped>\n",
       "    .dataframe tbody tr th:only-of-type {\n",
       "        vertical-align: middle;\n",
       "    }\n",
       "\n",
       "    .dataframe tbody tr th {\n",
       "        vertical-align: top;\n",
       "    }\n",
       "\n",
       "    .dataframe thead th {\n",
       "        text-align: right;\n",
       "    }\n",
       "</style>\n",
       "<table border=\"1\" class=\"dataframe\">\n",
       "  <thead>\n",
       "    <tr style=\"text-align: right;\">\n",
       "      <th></th>\n",
       "      <th>Unnamed: 0</th>\n",
       "      <th>DV</th>\n",
       "      <th>M2</th>\n",
       "      <th>PP</th>\n",
       "      <th>BEEE</th>\n",
       "      <th>FL</th>\n",
       "      <th>FIMS</th>\n",
       "      <th>Total</th>\n",
       "      <th>Percentage</th>\n",
       "    </tr>\n",
       "  </thead>\n",
       "  <tbody>\n",
       "    <tr>\n",
       "      <th>0</th>\n",
       "      <td>ALPHA</td>\n",
       "      <td>0.810</td>\n",
       "      <td>0.0</td>\n",
       "      <td>0.0</td>\n",
       "      <td>0.0</td>\n",
       "      <td>0.0</td>\n",
       "      <td>0.0</td>\n",
       "      <td>0.810</td>\n",
       "      <td>0.675000</td>\n",
       "    </tr>\n",
       "    <tr>\n",
       "      <th>1</th>\n",
       "      <td>BETA</td>\n",
       "      <td>0.810</td>\n",
       "      <td>0.0</td>\n",
       "      <td>0.0</td>\n",
       "      <td>0.0</td>\n",
       "      <td>0.0</td>\n",
       "      <td>0.0</td>\n",
       "      <td>0.810</td>\n",
       "      <td>0.675000</td>\n",
       "    </tr>\n",
       "    <tr>\n",
       "      <th>2</th>\n",
       "      <td>GAMMA</td>\n",
       "      <td>0.870</td>\n",
       "      <td>0.0</td>\n",
       "      <td>0.0</td>\n",
       "      <td>0.0</td>\n",
       "      <td>0.0</td>\n",
       "      <td>0.0</td>\n",
       "      <td>0.870</td>\n",
       "      <td>0.725000</td>\n",
       "    </tr>\n",
       "    <tr>\n",
       "      <th>3</th>\n",
       "      <td>DELTA</td>\n",
       "      <td>0.840</td>\n",
       "      <td>0.0</td>\n",
       "      <td>0.0</td>\n",
       "      <td>0.0</td>\n",
       "      <td>0.0</td>\n",
       "      <td>0.0</td>\n",
       "      <td>0.840</td>\n",
       "      <td>0.700000</td>\n",
       "    </tr>\n",
       "    <tr>\n",
       "      <th>4</th>\n",
       "      <td>SIGMA</td>\n",
       "      <td>0.950</td>\n",
       "      <td>0.0</td>\n",
       "      <td>0.0</td>\n",
       "      <td>0.0</td>\n",
       "      <td>0.0</td>\n",
       "      <td>0.0</td>\n",
       "      <td>0.950</td>\n",
       "      <td>0.791667</td>\n",
       "    </tr>\n",
       "    <tr>\n",
       "      <th>5</th>\n",
       "      <td>OMEGA</td>\n",
       "      <td>0.880</td>\n",
       "      <td>0.0</td>\n",
       "      <td>0.0</td>\n",
       "      <td>0.0</td>\n",
       "      <td>0.0</td>\n",
       "      <td>0.0</td>\n",
       "      <td>0.880</td>\n",
       "      <td>0.733333</td>\n",
       "    </tr>\n",
       "    <tr>\n",
       "      <th>6</th>\n",
       "      <td>EPSILON</td>\n",
       "      <td>0.950</td>\n",
       "      <td>0.0</td>\n",
       "      <td>0.0</td>\n",
       "      <td>0.0</td>\n",
       "      <td>0.0</td>\n",
       "      <td>0.0</td>\n",
       "      <td>0.950</td>\n",
       "      <td>0.791667</td>\n",
       "    </tr>\n",
       "    <tr>\n",
       "      <th>7</th>\n",
       "      <td>ZETA</td>\n",
       "      <td>0.911</td>\n",
       "      <td>0.0</td>\n",
       "      <td>0.0</td>\n",
       "      <td>0.0</td>\n",
       "      <td>0.0</td>\n",
       "      <td>0.0</td>\n",
       "      <td>0.911</td>\n",
       "      <td>0.759167</td>\n",
       "    </tr>\n",
       "  </tbody>\n",
       "</table>\n",
       "</div>"
      ],
      "text/plain": [
       "  Unnamed: 0     DV   M2   PP  BEEE   FL  FIMS  Total  Percentage\n",
       "0      ALPHA  0.810  0.0  0.0   0.0  0.0   0.0  0.810    0.675000\n",
       "1       BETA  0.810  0.0  0.0   0.0  0.0   0.0  0.810    0.675000\n",
       "2      GAMMA  0.870  0.0  0.0   0.0  0.0   0.0  0.870    0.725000\n",
       "3      DELTA  0.840  0.0  0.0   0.0  0.0   0.0  0.840    0.700000\n",
       "4      SIGMA  0.950  0.0  0.0   0.0  0.0   0.0  0.950    0.791667\n",
       "5      OMEGA  0.880  0.0  0.0   0.0  0.0   0.0  0.880    0.733333\n",
       "6    EPSILON  0.950  0.0  0.0   0.0  0.0   0.0  0.950    0.791667\n",
       "7       ZETA  0.911  0.0  0.0   0.0  0.0   0.0  0.911    0.759167"
      ]
     },
     "execution_count": 8,
     "metadata": {},
     "output_type": "execute_result"
    }
   ],
   "source": [
    "df"
   ]
  },
  {
   "cell_type": "code",
   "execution_count": 9,
   "id": "cc8f5cd8-92a2-4158-a7fa-bfc70289928a",
   "metadata": {},
   "outputs": [
    {
     "data": {
      "text/html": [
       "<div>\n",
       "<style scoped>\n",
       "    .dataframe tbody tr th:only-of-type {\n",
       "        vertical-align: middle;\n",
       "    }\n",
       "\n",
       "    .dataframe tbody tr th {\n",
       "        vertical-align: top;\n",
       "    }\n",
       "\n",
       "    .dataframe thead th {\n",
       "        text-align: right;\n",
       "    }\n",
       "</style>\n",
       "<table border=\"1\" class=\"dataframe\">\n",
       "  <thead>\n",
       "    <tr style=\"text-align: right;\">\n",
       "      <th></th>\n",
       "      <th>Unnamed: 0</th>\n",
       "      <th>DV</th>\n",
       "      <th>M2</th>\n",
       "      <th>PP</th>\n",
       "      <th>BEEE</th>\n",
       "      <th>FL</th>\n",
       "      <th>FIMS</th>\n",
       "      <th>Total</th>\n",
       "      <th>Percentage</th>\n",
       "    </tr>\n",
       "  </thead>\n",
       "  <tbody>\n",
       "    <tr>\n",
       "      <th>0</th>\n",
       "      <td>ALPHA</td>\n",
       "      <td>0.810</td>\n",
       "      <td>0.0</td>\n",
       "      <td>0.0</td>\n",
       "      <td>0.0</td>\n",
       "      <td>0.0</td>\n",
       "      <td>0.0</td>\n",
       "      <td>0.810</td>\n",
       "      <td>1</td>\n",
       "    </tr>\n",
       "    <tr>\n",
       "      <th>1</th>\n",
       "      <td>BETA</td>\n",
       "      <td>0.810</td>\n",
       "      <td>0.0</td>\n",
       "      <td>0.0</td>\n",
       "      <td>0.0</td>\n",
       "      <td>0.0</td>\n",
       "      <td>0.0</td>\n",
       "      <td>0.810</td>\n",
       "      <td>1</td>\n",
       "    </tr>\n",
       "    <tr>\n",
       "      <th>2</th>\n",
       "      <td>GAMMA</td>\n",
       "      <td>0.870</td>\n",
       "      <td>0.0</td>\n",
       "      <td>0.0</td>\n",
       "      <td>0.0</td>\n",
       "      <td>0.0</td>\n",
       "      <td>0.0</td>\n",
       "      <td>0.870</td>\n",
       "      <td>1</td>\n",
       "    </tr>\n",
       "    <tr>\n",
       "      <th>3</th>\n",
       "      <td>DELTA</td>\n",
       "      <td>0.840</td>\n",
       "      <td>0.0</td>\n",
       "      <td>0.0</td>\n",
       "      <td>0.0</td>\n",
       "      <td>0.0</td>\n",
       "      <td>0.0</td>\n",
       "      <td>0.840</td>\n",
       "      <td>1</td>\n",
       "    </tr>\n",
       "    <tr>\n",
       "      <th>4</th>\n",
       "      <td>SIGMA</td>\n",
       "      <td>0.950</td>\n",
       "      <td>0.0</td>\n",
       "      <td>0.0</td>\n",
       "      <td>0.0</td>\n",
       "      <td>0.0</td>\n",
       "      <td>0.0</td>\n",
       "      <td>0.950</td>\n",
       "      <td>1</td>\n",
       "    </tr>\n",
       "    <tr>\n",
       "      <th>5</th>\n",
       "      <td>OMEGA</td>\n",
       "      <td>0.880</td>\n",
       "      <td>0.0</td>\n",
       "      <td>0.0</td>\n",
       "      <td>0.0</td>\n",
       "      <td>0.0</td>\n",
       "      <td>0.0</td>\n",
       "      <td>0.880</td>\n",
       "      <td>1</td>\n",
       "    </tr>\n",
       "    <tr>\n",
       "      <th>6</th>\n",
       "      <td>EPSILON</td>\n",
       "      <td>0.950</td>\n",
       "      <td>0.0</td>\n",
       "      <td>0.0</td>\n",
       "      <td>0.0</td>\n",
       "      <td>0.0</td>\n",
       "      <td>0.0</td>\n",
       "      <td>0.950</td>\n",
       "      <td>1</td>\n",
       "    </tr>\n",
       "    <tr>\n",
       "      <th>7</th>\n",
       "      <td>ZETA</td>\n",
       "      <td>0.911</td>\n",
       "      <td>0.0</td>\n",
       "      <td>0.0</td>\n",
       "      <td>0.0</td>\n",
       "      <td>0.0</td>\n",
       "      <td>0.0</td>\n",
       "      <td>0.911</td>\n",
       "      <td>1</td>\n",
       "    </tr>\n",
       "  </tbody>\n",
       "</table>\n",
       "</div>"
      ],
      "text/plain": [
       "  Unnamed: 0     DV   M2   PP  BEEE   FL  FIMS  Total  Percentage\n",
       "0      ALPHA  0.810  0.0  0.0   0.0  0.0   0.0  0.810           1\n",
       "1       BETA  0.810  0.0  0.0   0.0  0.0   0.0  0.810           1\n",
       "2      GAMMA  0.870  0.0  0.0   0.0  0.0   0.0  0.870           1\n",
       "3      DELTA  0.840  0.0  0.0   0.0  0.0   0.0  0.840           1\n",
       "4      SIGMA  0.950  0.0  0.0   0.0  0.0   0.0  0.950           1\n",
       "5      OMEGA  0.880  0.0  0.0   0.0  0.0   0.0  0.880           1\n",
       "6    EPSILON  0.950  0.0  0.0   0.0  0.0   0.0  0.950           1\n",
       "7       ZETA  0.911  0.0  0.0   0.0  0.0   0.0  0.911           1"
      ]
     },
     "execution_count": 9,
     "metadata": {},
     "output_type": "execute_result"
    }
   ],
   "source": [
    "df['Percentage'] = df['Percentage'].round().astype(int)\n",
    "df"
   ]
  },
  {
   "cell_type": "code",
   "execution_count": 10,
   "id": "f4863948-2e70-46c3-8811-eaf5516346db",
   "metadata": {},
   "outputs": [
    {
     "data": {
      "text/html": [
       "<div>\n",
       "<style scoped>\n",
       "    .dataframe tbody tr th:only-of-type {\n",
       "        vertical-align: middle;\n",
       "    }\n",
       "\n",
       "    .dataframe tbody tr th {\n",
       "        vertical-align: top;\n",
       "    }\n",
       "\n",
       "    .dataframe thead th {\n",
       "        text-align: right;\n",
       "    }\n",
       "</style>\n",
       "<table border=\"1\" class=\"dataframe\">\n",
       "  <thead>\n",
       "    <tr style=\"text-align: right;\">\n",
       "      <th></th>\n",
       "      <th>Unnamed: 0</th>\n",
       "      <th>DV</th>\n",
       "      <th>M2</th>\n",
       "      <th>PP</th>\n",
       "      <th>BEEE</th>\n",
       "      <th>FL</th>\n",
       "      <th>FIMS</th>\n",
       "      <th>Total</th>\n",
       "      <th>Percentage</th>\n",
       "      <th>Grade</th>\n",
       "    </tr>\n",
       "  </thead>\n",
       "  <tbody>\n",
       "    <tr>\n",
       "      <th>0</th>\n",
       "      <td>ALPHA</td>\n",
       "      <td>0.810</td>\n",
       "      <td>0.0</td>\n",
       "      <td>0.0</td>\n",
       "      <td>0.0</td>\n",
       "      <td>0.0</td>\n",
       "      <td>0.0</td>\n",
       "      <td>0.810</td>\n",
       "      <td>1</td>\n",
       "      <td>F</td>\n",
       "    </tr>\n",
       "    <tr>\n",
       "      <th>1</th>\n",
       "      <td>BETA</td>\n",
       "      <td>0.810</td>\n",
       "      <td>0.0</td>\n",
       "      <td>0.0</td>\n",
       "      <td>0.0</td>\n",
       "      <td>0.0</td>\n",
       "      <td>0.0</td>\n",
       "      <td>0.810</td>\n",
       "      <td>1</td>\n",
       "      <td>F</td>\n",
       "    </tr>\n",
       "    <tr>\n",
       "      <th>2</th>\n",
       "      <td>GAMMA</td>\n",
       "      <td>0.870</td>\n",
       "      <td>0.0</td>\n",
       "      <td>0.0</td>\n",
       "      <td>0.0</td>\n",
       "      <td>0.0</td>\n",
       "      <td>0.0</td>\n",
       "      <td>0.870</td>\n",
       "      <td>1</td>\n",
       "      <td>F</td>\n",
       "    </tr>\n",
       "    <tr>\n",
       "      <th>3</th>\n",
       "      <td>DELTA</td>\n",
       "      <td>0.840</td>\n",
       "      <td>0.0</td>\n",
       "      <td>0.0</td>\n",
       "      <td>0.0</td>\n",
       "      <td>0.0</td>\n",
       "      <td>0.0</td>\n",
       "      <td>0.840</td>\n",
       "      <td>1</td>\n",
       "      <td>F</td>\n",
       "    </tr>\n",
       "    <tr>\n",
       "      <th>4</th>\n",
       "      <td>SIGMA</td>\n",
       "      <td>0.950</td>\n",
       "      <td>0.0</td>\n",
       "      <td>0.0</td>\n",
       "      <td>0.0</td>\n",
       "      <td>0.0</td>\n",
       "      <td>0.0</td>\n",
       "      <td>0.950</td>\n",
       "      <td>1</td>\n",
       "      <td>F</td>\n",
       "    </tr>\n",
       "    <tr>\n",
       "      <th>5</th>\n",
       "      <td>OMEGA</td>\n",
       "      <td>0.880</td>\n",
       "      <td>0.0</td>\n",
       "      <td>0.0</td>\n",
       "      <td>0.0</td>\n",
       "      <td>0.0</td>\n",
       "      <td>0.0</td>\n",
       "      <td>0.880</td>\n",
       "      <td>1</td>\n",
       "      <td>F</td>\n",
       "    </tr>\n",
       "    <tr>\n",
       "      <th>6</th>\n",
       "      <td>EPSILON</td>\n",
       "      <td>0.950</td>\n",
       "      <td>0.0</td>\n",
       "      <td>0.0</td>\n",
       "      <td>0.0</td>\n",
       "      <td>0.0</td>\n",
       "      <td>0.0</td>\n",
       "      <td>0.950</td>\n",
       "      <td>1</td>\n",
       "      <td>F</td>\n",
       "    </tr>\n",
       "    <tr>\n",
       "      <th>7</th>\n",
       "      <td>ZETA</td>\n",
       "      <td>0.911</td>\n",
       "      <td>0.0</td>\n",
       "      <td>0.0</td>\n",
       "      <td>0.0</td>\n",
       "      <td>0.0</td>\n",
       "      <td>0.0</td>\n",
       "      <td>0.911</td>\n",
       "      <td>1</td>\n",
       "      <td>F</td>\n",
       "    </tr>\n",
       "  </tbody>\n",
       "</table>\n",
       "</div>"
      ],
      "text/plain": [
       "  Unnamed: 0     DV   M2   PP  BEEE   FL  FIMS  Total  Percentage Grade\n",
       "0      ALPHA  0.810  0.0  0.0   0.0  0.0   0.0  0.810           1     F\n",
       "1       BETA  0.810  0.0  0.0   0.0  0.0   0.0  0.810           1     F\n",
       "2      GAMMA  0.870  0.0  0.0   0.0  0.0   0.0  0.870           1     F\n",
       "3      DELTA  0.840  0.0  0.0   0.0  0.0   0.0  0.840           1     F\n",
       "4      SIGMA  0.950  0.0  0.0   0.0  0.0   0.0  0.950           1     F\n",
       "5      OMEGA  0.880  0.0  0.0   0.0  0.0   0.0  0.880           1     F\n",
       "6    EPSILON  0.950  0.0  0.0   0.0  0.0   0.0  0.950           1     F\n",
       "7       ZETA  0.911  0.0  0.0   0.0  0.0   0.0  0.911           1     F"
      ]
     },
     "execution_count": 10,
     "metadata": {},
     "output_type": "execute_result"
    }
   ],
   "source": [
    "def assign_grade(percentage):\n",
    "    if percentage >= 90:\n",
    "        return 'A'\n",
    "    elif percentage >= 80:\n",
    "        return 'B+'\n",
    "    elif percentage >= 70:\n",
    "        return 'B'\n",
    "    elif percentage >= 60:\n",
    "        return 'C+'\n",
    "    elif percentage >=50:\n",
    "        return 'C'\n",
    "    elif percentage >=40:\n",
    "        return 'D'\n",
    "    else:\n",
    "        return 'F'\n",
    "df['Grade'] = df['Percentage'].apply(assign_grade)\n",
    "df"
   ]
  },
  {
   "cell_type": "code",
   "execution_count": 11,
   "id": "3b67d1fb-28fd-4f39-ac98-bf0f7e5488fa",
   "metadata": {},
   "outputs": [
    {
     "data": {
      "image/png": "[encoded data removed]",
      "text/plain": [
       "<Figure size 432x288 with 1 Axes>"
      ]
     },
     "metadata": {
      "needs_background": "light"
     },
     "output_type": "display_data"
    }
   ],
   "source": [
    "df.plot()\n",
    "plt.show()"
   ]
  },
  {
   "cell_type": "code",
   "execution_count": 12,
   "id": "9fd26071-0a98-4f62-ae47-411770a190ac",
   "metadata": {},
   "outputs": [
    {
     "data": {
      "image/png": "[encoded data removed]",
      "text/plain": [
       "<Figure size 576x288 with 1 Axes>"
      ]
     },
     "metadata": {
      "needs_background": "light"
     },
     "output_type": "display_data"
    }
   ],
   "source": [
    "plt.figure(figsize=[8, 4])\n",
    "plt.hist(df['Total'], color='cyan', bins=10, edgecolor='black')\n",
    "plt.title(\"Distribution of Total Marks\")\n",
    "plt.xlabel(\"Total Marks\")\n",
    "plt.ylabel(\"Number of Students\")\n",
    "plt.show()"
   ]
  },
  {
   "cell_type": "markdown",
   "id": "d98868ea-1b71-4e6b-9e58-5f35ee2eeb79",
   "metadata": {},
   "source": [
    "Most of the students scored marks in between 80 and 100"
   ]
  },
  {
   "cell_type": "code",
   "execution_count": 13,
   "id": "393e31b5-429c-4e64-8e64-f473cff27811",
   "metadata": {},
   "outputs": [
    {
     "data": {
      "image/png": "[encoded data removed]",
      "text/plain": [
       "<Figure size 432x288 with 1 Axes>"
      ]
     },
     "metadata": {
      "needs_background": "light"
     },
     "output_type": "display_data"
    }
   ],
   "source": [
    "df['DV'] = pd.to_numeric(df['DV'], errors='coerce')\n",
    "df = df.dropna(subset=['DV'])\n",
    "plt.hist(df['DV'], bins=10, color='red', edgecolor='black')\n",
    "plt.title(\"Distribution of DV Marks\")\n",
    "plt.xlabel(\"DV Marks\")\n",
    "plt.ylabel(\"Number of Students\")\n",
    "plt.show()\n"
   ]
  },
  {
   "cell_type": "markdown",
   "id": "d70fae33-1a6a-4268-8447-ce89020bee45",
   "metadata": {},
   "source": [
    "More than 200 students scred above 20 marks in DV subject"
   ]
  },
  {
   "cell_type": "code",
   "execution_count": 14,
   "id": "94937c46-b793-4859-8a5f-78190f8d7c4d",
   "metadata": {},
   "outputs": [
    {
     "data": {
      "image/png": "[encoded data removed]",
      "text/plain": [
       "<Figure size 432x288 with 1 Axes>"
      ]
     },
     "metadata": {
      "needs_background": "light"
     },
     "output_type": "display_data"
    }
   ],
   "source": [
    "df['M2'] = pd.to_numeric(df['M2'], errors='coerce')\n",
    "df = df.dropna(subset=['M2'])\n",
    "plt.hist(df['M2'], bins=10, color='orange', edgecolor='black')\n",
    "plt.title(\"Distribution of M2 Marks\")\n",
    "plt.xlabel(\"M2 Marks\")\n",
    "plt.ylabel(\"Number of Students\")\n",
    "plt.show()"
   ]
  },
  {
   "cell_type": "markdown",
   "id": "7e2133fa-5449-4657-b39c-a464af739e22",
   "metadata": {},
   "source": [
    "More than 120 students scored 20 marks in M2 subject"
   ]
  },
  {
   "cell_type": "code",
   "execution_count": 15,
   "id": "662a9dc8-4de6-4582-8ed8-a53649c64cc3",
   "metadata": {},
   "outputs": [
    {
     "data": {
      "image/png": "[encoded data removed]",
      "text/plain": [
       "<Figure size 432x288 with 1 Axes>"
      ]
     },
     "metadata": {
      "needs_background": "light"
     },
     "output_type": "display_data"
    }
   ],
   "source": [
    "filtered_df = df[df['PP'] > 10]\n",
    "plt.hist(filtered_df['PP'], bins=10, color='blue', edgecolor='black')\n",
    "plt.title(\"PP Marks above 15 \")\n",
    "plt.xlabel(\"PP Marks\")\n",
    "plt.ylabel(\"Number of Students\")\n",
    "plt.show()\n"
   ]
  },
  {
   "cell_type": "markdown",
   "id": "b1fc5854-c8a4-466b-96e8-69949707d31e",
   "metadata": {},
   "source": [
    " PP Marks who got more than 10"
   ]
  },
  {
   "cell_type": "code",
   "execution_count": 16,
   "id": "3d53278f-81a0-48f2-9267-3fdff5db3612",
   "metadata": {},
   "outputs": [
    {
     "data": {
      "image/png": "[encoded data removed]",
      "text/plain": [
       "<Figure size 432x288 with 1 Axes>"
      ]
     },
     "metadata": {
      "needs_background": "light"
     },
     "output_type": "display_data"
    }
   ],
   "source": [
    "filtered_df = df[df['M2'] < 10]\n",
    "\n",
    "plt.hist(filtered_df['M2'], bins=10, color='brown', edgecolor='black')\n",
    "plt.title(\"M2 Marks less than 15\")\n",
    "plt.xlabel(\"M2 Marks\")\n",
    "plt.ylabel(\"Number of Students\")\n",
    "plt.show()\n"
   ]
  },
  {
   "cell_type": "markdown",
   "id": "c0fd08ca-5a51-42b7-84a7-17bd6bdfa1fc",
   "metadata": {},
   "source": [
    "M2 Marks Who got less than 10"
   ]
  },
  {
   "cell_type": "code",
   "execution_count": 17,
   "id": "55b5f2a2-618c-4b66-a7a7-3dea720d7b29",
   "metadata": {},
   "outputs": [
    {
     "data": {
      "image/png": "[encoded data removed]",
      "text/plain": [
       "<Figure size 432x288 with 1 Axes>"
      ]
     },
     "metadata": {
      "needs_background": "light"
     },
     "output_type": "display_data"
    }
   ],
   "source": [
    "filtered_df = df[df['PP'] < 10]\n",
    "\n",
    "plt.scatter(filtered_df.index, filtered_df['PP'], alpha=0.7, color='green')\n",
    "plt.title(\"Less than 10 Marks in PP\")\n",
    "plt.xlabel(\"Student Index\")\n",
    "plt.ylabel(\"PP Marks\")\n",
    "plt.show()\n"
   ]
  },
  {
   "cell_type": "markdown",
   "id": "8f5625b5-a141-4d4e-bb31-2b4a57ad3af7",
   "metadata": {},
   "source": [
    "Scoring of PP Marks Less than 10"
   ]
  },
  {
   "cell_type": "code",
   "execution_count": 18,
   "id": "29b8eac5-e63a-4e08-ba51-5964078f8c96",
   "metadata": {},
   "outputs": [
    {
     "data": {
      "image/png": "[encoded data removed]",
      "text/plain": [
       "<Figure size 432x288 with 1 Axes>"
      ]
     },
     "metadata": {
      "needs_background": "light"
     },
     "output_type": "display_data"
    }
   ],
   "source": [
    "filtered_df = df[df['BEEE'] < 10]\n",
    "\n",
    "plt.scatter(filtered_df.index, filtered_df['PP'], alpha=0.7, color='blue')\n",
    "plt.title(\"More than 10 Marks in BEEE\")\n",
    "plt.xlabel(\"Student Index\")\n",
    "plt.ylabel(\"BEEE Marks\")\n",
    "plt.show()\n"
   ]
  },
  {
   "cell_type": "markdown",
   "id": "f0206bd3-8adc-449d-abce-726709fb2e03",
   "metadata": {},
   "source": [
    "Scoring of BEEE Marks More than 15"
   ]
  },
  {
   "cell_type": "markdown",
   "id": "f143b5a5-a674-4a60-a8d2-0883667c81eb",
   "metadata": {},
   "source": [
    "# Students who scored 10 marks in DV"
   ]
  },
  {
   "cell_type": "code",
   "execution_count": 19,
   "id": "1bf8d8ce-117a-4b1a-a1f5-fbeb8f6279ef",
   "metadata": {},
   "outputs": [
    {
     "data": {
      "image/png": "[encoded data removed]",
      "text/plain": [
       "<Figure size 432x288 with 1 Axes>"
      ]
     },
     "metadata": {
      "needs_background": "light"
     },
     "output_type": "display_data"
    }
   ],
   "source": [
    "filtered_df = df[df['M2'] == 0]\n",
    "plt.scatter(filtered_df.index, filtered_df['DV'], alpha=0.7, color='grey')\n",
    "plt.title(\"Students Marks 0 in M2 \")\n",
    "plt.xlabel(\"Student Index\")\n",
    "plt.ylabel(\"M2 Marks\")\n",
    "plt.show()"
   ]
  },
  {
   "cell_type": "markdown",
   "id": "4048f7a2-b368-41ba-a31e-6990eba81bfe",
   "metadata": {},
   "source": [
    " Students who scored 0 Marks in M2"
   ]
  },
  {
   "cell_type": "code",
   "execution_count": 20,
   "id": "d05bd7c6-3c84-4b23-bb85-8cdd23d538c7",
   "metadata": {},
   "outputs": [
    {
     "data": {
      "image/png": "[encoded data removed]",
      "text/plain": [
       "<Figure size 432x288 with 1 Axes>"
      ]
     },
     "metadata": {
      "needs_background": "light"
     },
     "output_type": "display_data"
    }
   ],
   "source": [
    "filtered_df = df[(df['PP'] == 0) & (df['BEEE'] == 0)]\n",
    "plt.scatter(filtered_df.index, filtered_df['PP'], alpha=0.7, color='brown')\n",
    "plt.title(\"Students Marks 0 in PP and BEEE\")\n",
    "plt.xlabel(\"Student Index\")\n",
    "plt.ylabel(\"PP Marks\")\n",
    "plt.show()\n"
   ]
  },
  {
   "cell_type": "markdown",
   "id": "b08046fb-41a9-4209-a330-a797cd54a3a1",
   "metadata": {},
   "source": [
    " Students scored 0 Marks in PP and BEEE"
   ]
  },
  {
   "cell_type": "code",
   "execution_count": 21,
   "id": "f792bb32-c8fa-4cd3-8cee-013ed0a0ea42",
   "metadata": {},
   "outputs": [
    {
     "data": {
      "image/png": "[encoded data removed]",
      "text/plain": [
       "<Figure size 360x432 with 1 Axes>"
      ]
     },
     "metadata": {
      "needs_background": "light"
     },
     "output_type": "display_data"
    }
   ],
   "source": [
    "plt.figure(figsize=(5, 6))\n",
    "sns.boxplot(data=df['DV'], color='lightblue')\n",
    "plt.title(\"Box Plot of DV Marks\")\n",
    "plt.ylabel(\"Marks\")\n",
    "plt.show()\n"
   ]
  },
  {
   "cell_type": "markdown",
   "id": "306412ee-828a-46e0-b0d3-fa0b2c242413",
   "metadata": {},
   "source": [
    "# Box plot for the DV Marks"
   ]
  },
  {
   "cell_type": "code",
   "execution_count": 22,
   "id": "c189d27c-3bc7-4807-a20f-5d760fa07880",
   "metadata": {},
   "outputs": [
    {
     "data": {
      "image/png": "[encoded data removed]",
      "text/plain": [
       "<Figure size 576x432 with 1 Axes>"
      ]
     },
     "metadata": {
      "needs_background": "light"
     },
     "output_type": "display_data"
    }
   ],
   "source": [
    "plt.figure(figsize=(8, 6))\n",
    "sns.boxplot(data=df['BEEE'], color='lightgreen')\n",
    "plt.title(\"Box Plot of BEEE Marks\")\n",
    "plt.ylabel(\"Marks\")\n",
    "plt.show()"
   ]
  },
  {
   "cell_type": "markdown",
   "id": "726cf71a-84f1-41d8-98e5-4ddbeca08b08",
   "metadata": {},
   "source": [
    " Box plot of BEEE Marks"
   ]
  },
  {
   "cell_type": "code",
   "execution_count": 23,
   "id": "8d8a40c9-f2f5-421b-aff3-c164b88c9f67",
   "metadata": {},
   "outputs": [
    {
     "data": {
      "text/html": [
       "<div>\n",
       "<style scoped>\n",
       "    .dataframe tbody tr th:only-of-type {\n",
       "        vertical-align: middle;\n",
       "    }\n",
       "\n",
       "    .dataframe tbody tr th {\n",
       "        vertical-align: top;\n",
       "    }\n",
       "\n",
       "    .dataframe thead th {\n",
       "        text-align: right;\n",
       "    }\n",
       "</style>\n",
       "<table border=\"1\" class=\"dataframe\">\n",
       "  <thead>\n",
       "    <tr style=\"text-align: right;\">\n",
       "      <th></th>\n",
       "      <th>index</th>\n",
       "      <th>Unnamed: 0</th>\n",
       "      <th>DV</th>\n",
       "      <th>M2</th>\n",
       "      <th>PP</th>\n",
       "      <th>BEEE</th>\n",
       "      <th>FL</th>\n",
       "      <th>FIMS</th>\n",
       "      <th>Total</th>\n",
       "      <th>Percentage</th>\n",
       "      <th>Grade</th>\n",
       "    </tr>\n",
       "  </thead>\n",
       "  <tbody>\n",
       "  </tbody>\n",
       "</table>\n",
       "</div>"
      ],
      "text/plain": [
       "Empty DataFrame\n",
       "Columns: [index, Unnamed: 0, DV, M2, PP, BEEE, FL, FIMS, Total, Percentage, Grade]\n",
       "Index: []"
      ]
     },
     "execution_count": 23,
     "metadata": {},
     "output_type": "execute_result"
    }
   ],
   "source": [
    "a=df.loc[(df['Total'] >= 75) & (df['Total'] <= 80)]\n",
    "a=a.reset_index()\n",
    "a"
   ]
  },
  {
   "cell_type": "markdown",
   "id": "c908b999-e500-46d8-a5d1-7d9314068a0c",
   "metadata": {},
   "source": [
    " Total marks between 75 to 80"
   ]
  },
  {
   "cell_type": "code",
   "execution_count": 24,
   "id": "ca431b45-5031-4681-9159-9d67d3fa579b",
   "metadata": {},
   "outputs": [
    {
     "data": {
      "image/png": "[encoded data removed]",
      "text/plain": [
       "<Figure size 432x288 with 1 Axes>"
      ]
     },
     "metadata": {
      "needs_background": "light"
     },
     "output_type": "display_data"
    }
   ],
   "source": [
    "a.plot.line(x='DV',y='Total',color='red')\n",
    "plt.title(\"Line Graph of DV\")\n",
    "plt.ylabel(\"Total\")\n",
    "plt.show()"
   ]
  },
  {
   "cell_type": "markdown",
   "id": "d25e5cd9-b05a-4c7a-9e52-3928237b104f",
   "metadata": {},
   "source": [
    "Lineplot for total and DV"
   ]
  },
  {
   "cell_type": "code",
   "execution_count": 25,
   "id": "4ff628aa-f3b0-42b4-9fcb-72044abfe3e0",
   "metadata": {},
   "outputs": [
    {
     "data": {
      "image/png": "[encoded data removed]",
      "text/plain": [
       "<Figure size 432x288 with 1 Axes>"
      ]
     },
     "metadata": {
      "needs_background": "light"
     },
     "output_type": "display_data"
    }
   ],
   "source": [
    "a.plot.line(x='FIMS',y='Total',color='red')\n",
    "plt.title(\"Line Graph of FIMS\")\n",
    "plt.ylabel(\"Total\")\n",
    "plt.show()"
   ]
  },
  {
   "cell_type": "markdown",
   "id": "f77651a6-a284-41d1-8afc-2a95ca485a14",
   "metadata": {},
   "source": [
    "Lineplot for total and FIMS"
   ]
  },
  {
   "cell_type": "code",
   "execution_count": 26,
   "id": "ad48c772-113d-4c9c-8507-d0dacbdf45a5",
   "metadata": {},
   "outputs": [
    {
     "data": {
      "image/png": "[encoded data removed]",
      "text/plain": [
       "<Figure size 432x288 with 1 Axes>"
      ]
     },
     "metadata": {
      "needs_background": "light"
     },
     "output_type": "display_data"
    }
   ],
   "source": [
    "a.plot.line(x='M2',y='Total',color='blue')\n",
    "plt.title(\"Line Graph of M2\")\n",
    "plt.ylabel(\"Total\")\n",
    "plt.show()"
   ]
  },
  {
   "cell_type": "markdown",
   "id": "c4de1646-3915-4205-830f-231402aca8a0",
   "metadata": {},
   "source": [
    " Lineplot for total and M2"
   ]
  },
  {
   "cell_type": "code",
   "execution_count": 27,
   "id": "5e4bbf1b-a892-4ad9-bf49-162ecd748031",
   "metadata": {},
   "outputs": [
    {
     "data": {
      "image/png": "[encoded data removed]",
      "text/plain": [
       "<Figure size 432x288 with 1 Axes>"
      ]
     },
     "metadata": {
      "needs_background": "light"
     },
     "output_type": "display_data"
    }
   ],
   "source": [
    "a.plot.line(x='BEEE',y='Total',color='blue')\n",
    "plt.title(\"Line Graph of BEEE\")\n",
    "plt.ylabel(\"Total\")\n",
    "plt.show()"
   ]
  },
  {
   "cell_type": "markdown",
   "id": "305fecbc-4349-46e0-a67e-544281c62f16",
   "metadata": {},
   "source": [
    " Lineplot for total and BEEE"
   ]
  },
  {
   "cell_type": "code",
   "execution_count": 28,
   "id": "f5e169bb-557a-40c8-ba1e-57a4387a2941",
   "metadata": {},
   "outputs": [
    {
     "data": {
      "text/html": [
       "<div>\n",
       "<style scoped>\n",
       "    .dataframe tbody tr th:only-of-type {\n",
       "        vertical-align: middle;\n",
       "    }\n",
       "\n",
       "    .dataframe tbody tr th {\n",
       "        vertical-align: top;\n",
       "    }\n",
       "\n",
       "    .dataframe thead th {\n",
       "        text-align: right;\n",
       "    }\n",
       "</style>\n",
       "<table border=\"1\" class=\"dataframe\">\n",
       "  <thead>\n",
       "    <tr style=\"text-align: right;\">\n",
       "      <th></th>\n",
       "      <th>index</th>\n",
       "      <th>Unnamed: 0</th>\n",
       "      <th>DV</th>\n",
       "      <th>M2</th>\n",
       "      <th>PP</th>\n",
       "      <th>BEEE</th>\n",
       "      <th>FL</th>\n",
       "      <th>FIMS</th>\n",
       "      <th>Total</th>\n",
       "      <th>Percentage</th>\n",
       "      <th>Grade</th>\n",
       "    </tr>\n",
       "  </thead>\n",
       "  <tbody>\n",
       "  </tbody>\n",
       "</table>\n",
       "</div>"
      ],
      "text/plain": [
       "Empty DataFrame\n",
       "Columns: [index, Unnamed: 0, DV, M2, PP, BEEE, FL, FIMS, Total, Percentage, Grade]\n",
       "Index: []"
      ]
     },
     "execution_count": 28,
     "metadata": {},
     "output_type": "execute_result"
    }
   ],
   "source": [
    "b=df.loc[(df['Total'] >= 115) & (df['Total'] <= 120)]\n",
    "b=b.reset_index()\n",
    "b"
   ]
  },
  {
   "cell_type": "markdown",
   "id": "a758739d-b253-45bf-954e-a1aa4c6a38ee",
   "metadata": {},
   "source": [
    " students between 115 and 120"
   ]
  },
  {
   "cell_type": "code",
   "execution_count": 29,
   "id": "301c1ed8-280a-4f7e-aba4-d5d93229e6cd",
   "metadata": {
    "scrolled": false
   },
   "outputs": [
    {
     "data": {
      "text/plain": [
       "Text(0.5, 1.0, 'Pie Chart of DV')"
      ]
     },
     "execution_count": 29,
     "metadata": {},
     "output_type": "execute_result"
    },
    {
     "data": {
      "image/png": "[encoded data removed]",
      "text/plain": [
       "<Figure size 576x576 with 1 Axes>"
      ]
     },
     "metadata": {},
     "output_type": "display_data"
    }
   ],
   "source": [
    "b['DV'].plot(kind='pie',subplots=True,figsize=(8,8))\n",
    "plt.title(\"Pie Chart of DV\")"
   ]
  },
  {
   "cell_type": "markdown",
   "id": "cc0aed78-1a3a-452c-84c8-21a4368c0810",
   "metadata": {},
   "source": [
    " PIE Chart of DV for 32 students"
   ]
  },
  {
   "cell_type": "code",
   "execution_count": 30,
   "id": "4d8c4347-fb5a-4e87-828d-c6e7e7cb8b7b",
   "metadata": {},
   "outputs": [
    {
     "data": {
      "text/plain": [
       "Text(0.5, 1.0, 'Pie Chart of BEEE')"
      ]
     },
     "execution_count": 30,
     "metadata": {},
     "output_type": "execute_result"
    },
    {
     "data": {
      "image/png": "[encoded data removed]",
      "text/plain": [
       "<Figure size 576x576 with 1 Axes>"
      ]
     },
     "metadata": {},
     "output_type": "display_data"
    }
   ],
   "source": [
    "b['BEEE'].plot(kind='pie',subplots=True,figsize=(8,8))\n",
    "plt.title(\"Pie Chart of BEEE\")"
   ]
  },
  {
   "cell_type": "markdown",
   "id": "9c0049d2-39a7-4828-b311-467236d26e90",
   "metadata": {},
   "source": [
    " PIE Chart of BEEE for 32 students"
   ]
  },
  {
   "cell_type": "code",
   "execution_count": 31,
   "id": "ea3e2c67-bca7-4276-878a-bb3f219050e3",
   "metadata": {},
   "outputs": [
    {
     "data": {
      "text/plain": [
       "Text(0.5, 1.0, 'Pie Chart of PP')"
      ]
     },
     "execution_count": 31,
     "metadata": {},
     "output_type": "execute_result"
    },
    {
     "data": {
      "image/png": "[encoded data removed]",
      "text/plain": [
       "<Figure size 576x576 with 1 Axes>"
      ]
     },
     "metadata": {},
     "output_type": "display_data"
    }
   ],
   "source": [
    "b['PP'].plot(kind='pie',subplots=True,figsize=(8,8))\n",
    "plt.title(\"Pie Chart of PP\")"
   ]
  },
  {
   "cell_type": "markdown",
   "id": "7a92c047-35bf-4ed6-93d9-175033bcf60d",
   "metadata": {},
   "source": [
    " PIE Chart of PP for 32 students"
   ]
  },
  {
   "cell_type": "code",
   "execution_count": 32,
   "id": "f337e091-5d50-45e9-bd1e-835ebd1afb3c",
   "metadata": {},
   "outputs": [
    {
     "data": {
      "text/html": [
       "<div>\n",
       "<style scoped>\n",
       "    .dataframe tbody tr th:only-of-type {\n",
       "        vertical-align: middle;\n",
       "    }\n",
       "\n",
       "    .dataframe tbody tr th {\n",
       "        vertical-align: top;\n",
       "    }\n",
       "\n",
       "    .dataframe thead th {\n",
       "        text-align: right;\n",
       "    }\n",
       "</style>\n",
       "<table border=\"1\" class=\"dataframe\">\n",
       "  <thead>\n",
       "    <tr style=\"text-align: right;\">\n",
       "      <th></th>\n",
       "      <th>Unnamed: 0</th>\n",
       "      <th>DV</th>\n",
       "      <th>M2</th>\n",
       "      <th>PP</th>\n",
       "      <th>BEEE</th>\n",
       "      <th>FL</th>\n",
       "      <th>FIMS</th>\n",
       "      <th>Total</th>\n",
       "      <th>Percentage</th>\n",
       "      <th>Grade</th>\n",
       "    </tr>\n",
       "  </thead>\n",
       "  <tbody>\n",
       "    <tr>\n",
       "      <th>0</th>\n",
       "      <td>ALPHA</td>\n",
       "      <td>0.810</td>\n",
       "      <td>0.0</td>\n",
       "      <td>0.0</td>\n",
       "      <td>0.0</td>\n",
       "      <td>0.0</td>\n",
       "      <td>0.0</td>\n",
       "      <td>0.810</td>\n",
       "      <td>1</td>\n",
       "      <td>F</td>\n",
       "    </tr>\n",
       "    <tr>\n",
       "      <th>1</th>\n",
       "      <td>BETA</td>\n",
       "      <td>0.810</td>\n",
       "      <td>0.0</td>\n",
       "      <td>0.0</td>\n",
       "      <td>0.0</td>\n",
       "      <td>0.0</td>\n",
       "      <td>0.0</td>\n",
       "      <td>0.810</td>\n",
       "      <td>1</td>\n",
       "      <td>F</td>\n",
       "    </tr>\n",
       "    <tr>\n",
       "      <th>3</th>\n",
       "      <td>DELTA</td>\n",
       "      <td>0.840</td>\n",
       "      <td>0.0</td>\n",
       "      <td>0.0</td>\n",
       "      <td>0.0</td>\n",
       "      <td>0.0</td>\n",
       "      <td>0.0</td>\n",
       "      <td>0.840</td>\n",
       "      <td>1</td>\n",
       "      <td>F</td>\n",
       "    </tr>\n",
       "    <tr>\n",
       "      <th>2</th>\n",
       "      <td>GAMMA</td>\n",
       "      <td>0.870</td>\n",
       "      <td>0.0</td>\n",
       "      <td>0.0</td>\n",
       "      <td>0.0</td>\n",
       "      <td>0.0</td>\n",
       "      <td>0.0</td>\n",
       "      <td>0.870</td>\n",
       "      <td>1</td>\n",
       "      <td>F</td>\n",
       "    </tr>\n",
       "    <tr>\n",
       "      <th>5</th>\n",
       "      <td>OMEGA</td>\n",
       "      <td>0.880</td>\n",
       "      <td>0.0</td>\n",
       "      <td>0.0</td>\n",
       "      <td>0.0</td>\n",
       "      <td>0.0</td>\n",
       "      <td>0.0</td>\n",
       "      <td>0.880</td>\n",
       "      <td>1</td>\n",
       "      <td>F</td>\n",
       "    </tr>\n",
       "    <tr>\n",
       "      <th>7</th>\n",
       "      <td>ZETA</td>\n",
       "      <td>0.911</td>\n",
       "      <td>0.0</td>\n",
       "      <td>0.0</td>\n",
       "      <td>0.0</td>\n",
       "      <td>0.0</td>\n",
       "      <td>0.0</td>\n",
       "      <td>0.911</td>\n",
       "      <td>1</td>\n",
       "      <td>F</td>\n",
       "    </tr>\n",
       "    <tr>\n",
       "      <th>4</th>\n",
       "      <td>SIGMA</td>\n",
       "      <td>0.950</td>\n",
       "      <td>0.0</td>\n",
       "      <td>0.0</td>\n",
       "      <td>0.0</td>\n",
       "      <td>0.0</td>\n",
       "      <td>0.0</td>\n",
       "      <td>0.950</td>\n",
       "      <td>1</td>\n",
       "      <td>F</td>\n",
       "    </tr>\n",
       "    <tr>\n",
       "      <th>6</th>\n",
       "      <td>EPSILON</td>\n",
       "      <td>0.950</td>\n",
       "      <td>0.0</td>\n",
       "      <td>0.0</td>\n",
       "      <td>0.0</td>\n",
       "      <td>0.0</td>\n",
       "      <td>0.0</td>\n",
       "      <td>0.950</td>\n",
       "      <td>1</td>\n",
       "      <td>F</td>\n",
       "    </tr>\n",
       "  </tbody>\n",
       "</table>\n",
       "</div>"
      ],
      "text/plain": [
       "  Unnamed: 0     DV   M2   PP  BEEE   FL  FIMS  Total  Percentage Grade\n",
       "0      ALPHA  0.810  0.0  0.0   0.0  0.0   0.0  0.810           1     F\n",
       "1       BETA  0.810  0.0  0.0   0.0  0.0   0.0  0.810           1     F\n",
       "3      DELTA  0.840  0.0  0.0   0.0  0.0   0.0  0.840           1     F\n",
       "2      GAMMA  0.870  0.0  0.0   0.0  0.0   0.0  0.870           1     F\n",
       "5      OMEGA  0.880  0.0  0.0   0.0  0.0   0.0  0.880           1     F\n",
       "7       ZETA  0.911  0.0  0.0   0.0  0.0   0.0  0.911           1     F\n",
       "4      SIGMA  0.950  0.0  0.0   0.0  0.0   0.0  0.950           1     F\n",
       "6    EPSILON  0.950  0.0  0.0   0.0  0.0   0.0  0.950           1     F"
      ]
     },
     "execution_count": 32,
     "metadata": {},
     "output_type": "execute_result"
    }
   ],
   "source": [
    "df.sort_values('Total').tail(10)"
   ]
  },
  {
   "cell_type": "code",
   "execution_count": 33,
   "id": "ce008e15-b682-4f8a-907d-132f815dc9a1",
   "metadata": {},
   "outputs": [
    {
     "data": {
      "text/html": [
       "<div>\n",
       "<style scoped>\n",
       "    .dataframe tbody tr th:only-of-type {\n",
       "        vertical-align: middle;\n",
       "    }\n",
       "\n",
       "    .dataframe tbody tr th {\n",
       "        vertical-align: top;\n",
       "    }\n",
       "\n",
       "    .dataframe thead th {\n",
       "        text-align: right;\n",
       "    }\n",
       "</style>\n",
       "<table border=\"1\" class=\"dataframe\">\n",
       "  <thead>\n",
       "    <tr style=\"text-align: right;\">\n",
       "      <th></th>\n",
       "      <th>Unnamed: 0</th>\n",
       "      <th>DV</th>\n",
       "      <th>M2</th>\n",
       "      <th>PP</th>\n",
       "      <th>BEEE</th>\n",
       "      <th>FL</th>\n",
       "      <th>FIMS</th>\n",
       "      <th>Total</th>\n",
       "      <th>Percentage</th>\n",
       "      <th>Grade</th>\n",
       "    </tr>\n",
       "  </thead>\n",
       "  <tbody>\n",
       "    <tr>\n",
       "      <th>0</th>\n",
       "      <td>ALPHA</td>\n",
       "      <td>0.810</td>\n",
       "      <td>0.0</td>\n",
       "      <td>0.0</td>\n",
       "      <td>0.0</td>\n",
       "      <td>0.0</td>\n",
       "      <td>0.0</td>\n",
       "      <td>0.810</td>\n",
       "      <td>1</td>\n",
       "      <td>F</td>\n",
       "    </tr>\n",
       "    <tr>\n",
       "      <th>1</th>\n",
       "      <td>BETA</td>\n",
       "      <td>0.810</td>\n",
       "      <td>0.0</td>\n",
       "      <td>0.0</td>\n",
       "      <td>0.0</td>\n",
       "      <td>0.0</td>\n",
       "      <td>0.0</td>\n",
       "      <td>0.810</td>\n",
       "      <td>1</td>\n",
       "      <td>F</td>\n",
       "    </tr>\n",
       "    <tr>\n",
       "      <th>3</th>\n",
       "      <td>DELTA</td>\n",
       "      <td>0.840</td>\n",
       "      <td>0.0</td>\n",
       "      <td>0.0</td>\n",
       "      <td>0.0</td>\n",
       "      <td>0.0</td>\n",
       "      <td>0.0</td>\n",
       "      <td>0.840</td>\n",
       "      <td>1</td>\n",
       "      <td>F</td>\n",
       "    </tr>\n",
       "    <tr>\n",
       "      <th>2</th>\n",
       "      <td>GAMMA</td>\n",
       "      <td>0.870</td>\n",
       "      <td>0.0</td>\n",
       "      <td>0.0</td>\n",
       "      <td>0.0</td>\n",
       "      <td>0.0</td>\n",
       "      <td>0.0</td>\n",
       "      <td>0.870</td>\n",
       "      <td>1</td>\n",
       "      <td>F</td>\n",
       "    </tr>\n",
       "    <tr>\n",
       "      <th>5</th>\n",
       "      <td>OMEGA</td>\n",
       "      <td>0.880</td>\n",
       "      <td>0.0</td>\n",
       "      <td>0.0</td>\n",
       "      <td>0.0</td>\n",
       "      <td>0.0</td>\n",
       "      <td>0.0</td>\n",
       "      <td>0.880</td>\n",
       "      <td>1</td>\n",
       "      <td>F</td>\n",
       "    </tr>\n",
       "    <tr>\n",
       "      <th>7</th>\n",
       "      <td>ZETA</td>\n",
       "      <td>0.911</td>\n",
       "      <td>0.0</td>\n",
       "      <td>0.0</td>\n",
       "      <td>0.0</td>\n",
       "      <td>0.0</td>\n",
       "      <td>0.0</td>\n",
       "      <td>0.911</td>\n",
       "      <td>1</td>\n",
       "      <td>F</td>\n",
       "    </tr>\n",
       "    <tr>\n",
       "      <th>4</th>\n",
       "      <td>SIGMA</td>\n",
       "      <td>0.950</td>\n",
       "      <td>0.0</td>\n",
       "      <td>0.0</td>\n",
       "      <td>0.0</td>\n",
       "      <td>0.0</td>\n",
       "      <td>0.0</td>\n",
       "      <td>0.950</td>\n",
       "      <td>1</td>\n",
       "      <td>F</td>\n",
       "    </tr>\n",
       "    <tr>\n",
       "      <th>6</th>\n",
       "      <td>EPSILON</td>\n",
       "      <td>0.950</td>\n",
       "      <td>0.0</td>\n",
       "      <td>0.0</td>\n",
       "      <td>0.0</td>\n",
       "      <td>0.0</td>\n",
       "      <td>0.0</td>\n",
       "      <td>0.950</td>\n",
       "      <td>1</td>\n",
       "      <td>F</td>\n",
       "    </tr>\n",
       "  </tbody>\n",
       "</table>\n",
       "</div>"
      ],
      "text/plain": [
       "  Unnamed: 0     DV   M2   PP  BEEE   FL  FIMS  Total  Percentage Grade\n",
       "0      ALPHA  0.810  0.0  0.0   0.0  0.0   0.0  0.810           1     F\n",
       "1       BETA  0.810  0.0  0.0   0.0  0.0   0.0  0.810           1     F\n",
       "3      DELTA  0.840  0.0  0.0   0.0  0.0   0.0  0.840           1     F\n",
       "2      GAMMA  0.870  0.0  0.0   0.0  0.0   0.0  0.870           1     F\n",
       "5      OMEGA  0.880  0.0  0.0   0.0  0.0   0.0  0.880           1     F\n",
       "7       ZETA  0.911  0.0  0.0   0.0  0.0   0.0  0.911           1     F\n",
       "4      SIGMA  0.950  0.0  0.0   0.0  0.0   0.0  0.950           1     F\n",
       "6    EPSILON  0.950  0.0  0.0   0.0  0.0   0.0  0.950           1     F"
      ]
     },
     "execution_count": 33,
     "metadata": {},
     "output_type": "execute_result"
    }
   ],
   "source": [
    "df.sort_values('DV').tail(20)"
   ]
  },
  {
   "cell_type": "code",
   "execution_count": 34,
   "id": "d4fb710b-aa26-490a-82fc-c6b87e1fc768",
   "metadata": {},
   "outputs": [
    {
     "data": {
      "text/html": [
       "<div>\n",
       "<style scoped>\n",
       "    .dataframe tbody tr th:only-of-type {\n",
       "        vertical-align: middle;\n",
       "    }\n",
       "\n",
       "    .dataframe tbody tr th {\n",
       "        vertical-align: top;\n",
       "    }\n",
       "\n",
       "    .dataframe thead th {\n",
       "        text-align: right;\n",
       "    }\n",
       "</style>\n",
       "<table border=\"1\" class=\"dataframe\">\n",
       "  <thead>\n",
       "    <tr style=\"text-align: right;\">\n",
       "      <th></th>\n",
       "      <th>Unnamed: 0</th>\n",
       "      <th>DV</th>\n",
       "      <th>M2</th>\n",
       "      <th>PP</th>\n",
       "      <th>BEEE</th>\n",
       "      <th>FL</th>\n",
       "      <th>FIMS</th>\n",
       "      <th>Total</th>\n",
       "      <th>Percentage</th>\n",
       "      <th>Grade</th>\n",
       "    </tr>\n",
       "  </thead>\n",
       "  <tbody>\n",
       "    <tr>\n",
       "      <th>0</th>\n",
       "      <td>ALPHA</td>\n",
       "      <td>0.810</td>\n",
       "      <td>0.0</td>\n",
       "      <td>0.0</td>\n",
       "      <td>0.0</td>\n",
       "      <td>0.0</td>\n",
       "      <td>0.0</td>\n",
       "      <td>0.810</td>\n",
       "      <td>1</td>\n",
       "      <td>F</td>\n",
       "    </tr>\n",
       "    <tr>\n",
       "      <th>1</th>\n",
       "      <td>BETA</td>\n",
       "      <td>0.810</td>\n",
       "      <td>0.0</td>\n",
       "      <td>0.0</td>\n",
       "      <td>0.0</td>\n",
       "      <td>0.0</td>\n",
       "      <td>0.0</td>\n",
       "      <td>0.810</td>\n",
       "      <td>1</td>\n",
       "      <td>F</td>\n",
       "    </tr>\n",
       "    <tr>\n",
       "      <th>3</th>\n",
       "      <td>DELTA</td>\n",
       "      <td>0.840</td>\n",
       "      <td>0.0</td>\n",
       "      <td>0.0</td>\n",
       "      <td>0.0</td>\n",
       "      <td>0.0</td>\n",
       "      <td>0.0</td>\n",
       "      <td>0.840</td>\n",
       "      <td>1</td>\n",
       "      <td>F</td>\n",
       "    </tr>\n",
       "    <tr>\n",
       "      <th>2</th>\n",
       "      <td>GAMMA</td>\n",
       "      <td>0.870</td>\n",
       "      <td>0.0</td>\n",
       "      <td>0.0</td>\n",
       "      <td>0.0</td>\n",
       "      <td>0.0</td>\n",
       "      <td>0.0</td>\n",
       "      <td>0.870</td>\n",
       "      <td>1</td>\n",
       "      <td>F</td>\n",
       "    </tr>\n",
       "    <tr>\n",
       "      <th>5</th>\n",
       "      <td>OMEGA</td>\n",
       "      <td>0.880</td>\n",
       "      <td>0.0</td>\n",
       "      <td>0.0</td>\n",
       "      <td>0.0</td>\n",
       "      <td>0.0</td>\n",
       "      <td>0.0</td>\n",
       "      <td>0.880</td>\n",
       "      <td>1</td>\n",
       "      <td>F</td>\n",
       "    </tr>\n",
       "    <tr>\n",
       "      <th>7</th>\n",
       "      <td>ZETA</td>\n",
       "      <td>0.911</td>\n",
       "      <td>0.0</td>\n",
       "      <td>0.0</td>\n",
       "      <td>0.0</td>\n",
       "      <td>0.0</td>\n",
       "      <td>0.0</td>\n",
       "      <td>0.911</td>\n",
       "      <td>1</td>\n",
       "      <td>F</td>\n",
       "    </tr>\n",
       "    <tr>\n",
       "      <th>4</th>\n",
       "      <td>SIGMA</td>\n",
       "      <td>0.950</td>\n",
       "      <td>0.0</td>\n",
       "      <td>0.0</td>\n",
       "      <td>0.0</td>\n",
       "      <td>0.0</td>\n",
       "      <td>0.0</td>\n",
       "      <td>0.950</td>\n",
       "      <td>1</td>\n",
       "      <td>F</td>\n",
       "    </tr>\n",
       "    <tr>\n",
       "      <th>6</th>\n",
       "      <td>EPSILON</td>\n",
       "      <td>0.950</td>\n",
       "      <td>0.0</td>\n",
       "      <td>0.0</td>\n",
       "      <td>0.0</td>\n",
       "      <td>0.0</td>\n",
       "      <td>0.0</td>\n",
       "      <td>0.950</td>\n",
       "      <td>1</td>\n",
       "      <td>F</td>\n",
       "    </tr>\n",
       "  </tbody>\n",
       "</table>\n",
       "</div>"
      ],
      "text/plain": [
       "  Unnamed: 0     DV   M2   PP  BEEE   FL  FIMS  Total  Percentage Grade\n",
       "0      ALPHA  0.810  0.0  0.0   0.0  0.0   0.0  0.810           1     F\n",
       "1       BETA  0.810  0.0  0.0   0.0  0.0   0.0  0.810           1     F\n",
       "3      DELTA  0.840  0.0  0.0   0.0  0.0   0.0  0.840           1     F\n",
       "2      GAMMA  0.870  0.0  0.0   0.0  0.0   0.0  0.870           1     F\n",
       "5      OMEGA  0.880  0.0  0.0   0.0  0.0   0.0  0.880           1     F\n",
       "7       ZETA  0.911  0.0  0.0   0.0  0.0   0.0  0.911           1     F\n",
       "4      SIGMA  0.950  0.0  0.0   0.0  0.0   0.0  0.950           1     F\n",
       "6    EPSILON  0.950  0.0  0.0   0.0  0.0   0.0  0.950           1     F"
      ]
     },
     "execution_count": 34,
     "metadata": {},
     "output_type": "execute_result"
    }
   ],
   "source": [
    "df.sort_values('DV').head(50)"
   ]
  },
  {
   "cell_type": "code",
   "execution_count": 35,
   "id": "9a43cf17-f6d1-4c07-816a-e6e6c3a1cc03",
   "metadata": {},
   "outputs": [
    {
     "ename": "KeyError",
     "evalue": "'SECTION'",
     "output_type": "error",
     "traceback": [
      "\u001b[1;31m---------------------------------------------------------------------------\u001b[0m",
      "\u001b[1;31mKeyError\u001b[0m                                  Traceback (most recent call last)",
      "File \u001b[1;32m~\\anaconda3\\lib\\site-packages\\pandas\\core\\indexes\\base.py:3621\u001b[0m, in \u001b[0;36mIndex.get_loc\u001b[1;34m(self, key, method, tolerance)\u001b[0m\n\u001b[0;32m   3620\u001b[0m \u001b[38;5;28;01mtry\u001b[39;00m:\n\u001b[1;32m-> 3621\u001b[0m     \u001b[38;5;28;01mreturn\u001b[39;00m \u001b[38;5;28;43mself\u001b[39;49m\u001b[38;5;241;43m.\u001b[39;49m\u001b[43m_engine\u001b[49m\u001b[38;5;241;43m.\u001b[39;49m\u001b[43mget_loc\u001b[49m\u001b[43m(\u001b[49m\u001b[43mcasted_key\u001b[49m\u001b[43m)\u001b[49m\n\u001b[0;32m   3622\u001b[0m \u001b[38;5;28;01mexcept\u001b[39;00m \u001b[38;5;167;01mKeyError\u001b[39;00m \u001b[38;5;28;01mas\u001b[39;00m err:\n",
      "File \u001b[1;32m~\\anaconda3\\lib\\site-packages\\pandas\\_libs\\index.pyx:136\u001b[0m, in \u001b[0;36mpandas._libs.index.IndexEngine.get_loc\u001b[1;34m()\u001b[0m\n",
      "File \u001b[1;32m~\\anaconda3\\lib\\site-packages\\pandas\\_libs\\index.pyx:163\u001b[0m, in \u001b[0;36mpandas._libs.index.IndexEngine.get_loc\u001b[1;34m()\u001b[0m\n",
      "File \u001b[1;32mpandas\\_libs\\hashtable_class_helper.pxi:5198\u001b[0m, in \u001b[0;36mpandas._libs.hashtable.PyObjectHashTable.get_item\u001b[1;34m()\u001b[0m\n",
      "File \u001b[1;32mpandas\\_libs\\hashtable_class_helper.pxi:5206\u001b[0m, in \u001b[0;36mpandas._libs.hashtable.PyObjectHashTable.get_item\u001b[1;34m()\u001b[0m\n",
      "\u001b[1;31mKeyError\u001b[0m: 'SECTION'",
      "\nThe above exception was the direct cause of the following exception:\n",
      "\u001b[1;31mKeyError\u001b[0m                                  Traceback (most recent call last)",
      "Input \u001b[1;32mIn [35]\u001b[0m, in \u001b[0;36m<cell line: 9>\u001b[1;34m()\u001b[0m\n\u001b[0;32m      1\u001b[0m h \u001b[38;5;241m=\u001b[39m df[\n\u001b[0;32m      2\u001b[0m     (df[\u001b[38;5;124m'\u001b[39m\u001b[38;5;124mDV\u001b[39m\u001b[38;5;124m'\u001b[39m] \u001b[38;5;241m<\u001b[39m \u001b[38;5;241m10.0\u001b[39m) \u001b[38;5;241m|\u001b[39m\n\u001b[0;32m      3\u001b[0m     (df[\u001b[38;5;124m'\u001b[39m\u001b[38;5;124mPP\u001b[39m\u001b[38;5;124m'\u001b[39m] \u001b[38;5;241m<\u001b[39m \u001b[38;5;241m10.0\u001b[39m) \u001b[38;5;241m|\u001b[39m\n\u001b[1;32m   (...)\u001b[0m\n\u001b[0;32m      7\u001b[0m     (df[\u001b[38;5;124m'\u001b[39m\u001b[38;5;124mFIMS\u001b[39m\u001b[38;5;124m'\u001b[39m] \u001b[38;5;241m<\u001b[39m \u001b[38;5;241m10.0\u001b[39m)\n\u001b[0;32m      8\u001b[0m ]\n\u001b[1;32m----> 9\u001b[0m \u001b[43mh\u001b[49m\u001b[43m[\u001b[49m\u001b[38;5;124;43m'\u001b[39;49m\u001b[38;5;124;43mSECTION\u001b[39;49m\u001b[38;5;124;43m'\u001b[39;49m\u001b[43m]\u001b[49m\u001b[38;5;241m.\u001b[39mvalue_counts()\n",
      "File \u001b[1;32m~\\anaconda3\\lib\\site-packages\\pandas\\core\\frame.py:3505\u001b[0m, in \u001b[0;36mDataFrame.__getitem__\u001b[1;34m(self, key)\u001b[0m\n\u001b[0;32m   3503\u001b[0m \u001b[38;5;28;01mif\u001b[39;00m \u001b[38;5;28mself\u001b[39m\u001b[38;5;241m.\u001b[39mcolumns\u001b[38;5;241m.\u001b[39mnlevels \u001b[38;5;241m>\u001b[39m \u001b[38;5;241m1\u001b[39m:\n\u001b[0;32m   3504\u001b[0m     \u001b[38;5;28;01mreturn\u001b[39;00m \u001b[38;5;28mself\u001b[39m\u001b[38;5;241m.\u001b[39m_getitem_multilevel(key)\n\u001b[1;32m-> 3505\u001b[0m indexer \u001b[38;5;241m=\u001b[39m \u001b[38;5;28;43mself\u001b[39;49m\u001b[38;5;241;43m.\u001b[39;49m\u001b[43mcolumns\u001b[49m\u001b[38;5;241;43m.\u001b[39;49m\u001b[43mget_loc\u001b[49m\u001b[43m(\u001b[49m\u001b[43mkey\u001b[49m\u001b[43m)\u001b[49m\n\u001b[0;32m   3506\u001b[0m \u001b[38;5;28;01mif\u001b[39;00m is_integer(indexer):\n\u001b[0;32m   3507\u001b[0m     indexer \u001b[38;5;241m=\u001b[39m [indexer]\n",
      "File \u001b[1;32m~\\anaconda3\\lib\\site-packages\\pandas\\core\\indexes\\base.py:3623\u001b[0m, in \u001b[0;36mIndex.get_loc\u001b[1;34m(self, key, method, tolerance)\u001b[0m\n\u001b[0;32m   3621\u001b[0m     \u001b[38;5;28;01mreturn\u001b[39;00m \u001b[38;5;28mself\u001b[39m\u001b[38;5;241m.\u001b[39m_engine\u001b[38;5;241m.\u001b[39mget_loc(casted_key)\n\u001b[0;32m   3622\u001b[0m \u001b[38;5;28;01mexcept\u001b[39;00m \u001b[38;5;167;01mKeyError\u001b[39;00m \u001b[38;5;28;01mas\u001b[39;00m err:\n\u001b[1;32m-> 3623\u001b[0m     \u001b[38;5;28;01mraise\u001b[39;00m \u001b[38;5;167;01mKeyError\u001b[39;00m(key) \u001b[38;5;28;01mfrom\u001b[39;00m \u001b[38;5;21;01merr\u001b[39;00m\n\u001b[0;32m   3624\u001b[0m \u001b[38;5;28;01mexcept\u001b[39;00m \u001b[38;5;167;01mTypeError\u001b[39;00m:\n\u001b[0;32m   3625\u001b[0m     \u001b[38;5;66;03m# If we have a listlike key, _check_indexing_error will raise\u001b[39;00m\n\u001b[0;32m   3626\u001b[0m     \u001b[38;5;66;03m#  InvalidIndexError. Otherwise we fall through and re-raise\u001b[39;00m\n\u001b[0;32m   3627\u001b[0m     \u001b[38;5;66;03m#  the TypeError.\u001b[39;00m\n\u001b[0;32m   3628\u001b[0m     \u001b[38;5;28mself\u001b[39m\u001b[38;5;241m.\u001b[39m_check_indexing_error(key)\n",
      "\u001b[1;31mKeyError\u001b[0m: 'SECTION'"
     ]
    }
   ],
   "source": [
    "h = df[\n",
    "    (df['DV'] < 10.0) |\n",
    "    (df['PP'] < 10.0) |\n",
    "    (df['M2'] < 10.0) |\n",
    "    (df['BEEE'] < 10.0) |\n",
    "    (df['FL'] < 10.0) |\n",
    "    (df['FIMS'] < 10.0)\n",
    "]\n",
    "h['SECTION'].value_counts()\n"
   ]
  },
  {
   "cell_type": "code",
   "execution_count": null,
   "id": "817891a2-3b00-48f3-afbe-abcf2e277863",
   "metadata": {},
   "outputs": [],
   "source": [
    "df['backlogs'] = (df[['DV', 'M2', 'PP', 'BEEE', 'FL', 'FIMS']] < 10).sum(axis=1)\n",
    "df"
   ]
  },
  {
   "cell_type": "code",
   "execution_count": null,
   "id": "08f62ca9-5017-41cb-b8a8-67efebe1e63e",
   "metadata": {},
   "outputs": [],
   "source": [
    "j=df.sort_values('backlogs')\n",
    "j"
   ]
  },
  {
   "cell_type": "code",
   "execution_count": null,
   "id": "464fbc6b-ec10-4186-a7cb-f085bff849c9",
   "metadata": {},
   "outputs": [],
   "source": [
    "j.value_counts('backlogs')"
   ]
  },
  {
   "cell_type": "code",
   "execution_count": null,
   "id": "f5f3aa6c-6e2e-418c-879c-228ce4ddf044",
   "metadata": {},
   "outputs": [],
   "source": [
    "df.drop(columns=\"Total\")"
   ]
  },
  {
   "cell_type": "code",
   "execution_count": null,
   "id": "357bd6db",
   "metadata": {},
   "outputs": [],
   "source": [
    "df['Backlogs'] = (df[['DV', 'M2', 'PP', 'BEEE', 'FL', 'FIMS']] < 10).sum(axis=1)\n",
    "df"
   ]
  },
  {
   "cell_type": "code",
   "execution_count": null,
   "id": "c51ebfcb",
   "metadata": {},
   "outputs": [],
   "source": [
    "import pandas as pd\n",
    "import matplotlib.pyplot as plt\n",
    "import seaborn as sns\n",
    "df = pd.read_excel(\"MIDMARKS.xlsx\")"
   ]
  },
  {
   "cell_type": "code",
   "execution_count": null,
   "id": "4614067a",
   "metadata": {},
   "outputs": [],
   "source": [
    "baclogs=0\n",
    "for i in range (len(df)):\n",
    "\n",
    "    if(DV<10):\n",
    "        baclogs++\n",
    "    if(M2<10):\n",
    "        baclogs++\n",
    "    if(PP<10):\n",
    "        baclogs++\n",
    "    if(BEEE<10):\n",
    "        baclogs++"
   ]
  },
  {
   "cell_type": "code",
   "execution_count": null,
   "id": "a0d23cfc",
   "metadata": {},
   "outputs": [],
   "source": [
    "a['BQ']=None\n",
    "a\n"
   ]
  },
  {
   "cell_type": "code",
   "execution_count": null,
   "id": "24619354",
   "metadata": {},
   "outputs": [],
   "source": [
    "df[\"backlogs\"]=6\n",
    "df.backlogs.value_counts(\"SECION\")"
   ]
  },
  {
   "cell_type": "code",
   "execution_count": null,
   "id": "d0739d0d",
   "metadata": {},
   "outputs": [],
   "source": [
    "df[\"SECTION\"]<10\n",
    "print(df)\n",
    "\n"
   ]
  },
  {
   "cell_type": "code",
   "execution_count": null,
   "id": "a34dedce",
   "metadata": {},
   "outputs": [],
   "source": [
    "import pandas as pd\n",
    "\n",
    "# Load the dataset\n",
    "file_path = \"MIDMARKS.csv\"  # Update with the correct file path\n",
    "df = pd.read_csv(file_path)\n",
    "\n",
    "# Convert the DV column to numeric, handling errors\n",
    "df[\"DV\"] = pd.to_numeric(df[\"DV\"], errors=\"coerce\")\n",
    "\n",
    "# Define the passing mark\n",
    "passing_mark = 10\n",
    "\n",
    "# Filter the data for Section Alpha\n",
    "alpha_df = df[df[\"SECTION\"] == \"ALPHA\"]\n",
    "\n",
    "# Calculate pass probability\n",
    "total_students = len(alpha_df)\n",
    "students_passed = (alpha_df[\"DV\"] >= passing_mark).sum()\n",
    "pass_probability = students_passed / total_students\n",
    "\n",
    "# Output the result\n",
    "print(f\"Pass probability for DV in Section Alpha: {pass_probability:.4f}\")"
   ]
  },
  {
   "cell_type": "code",
   "execution_count": null,
   "id": "6b0d74e0",
   "metadata": {},
   "outputs": [],
   "source": [
    "import pandas as pd\n",
    "\n",
    "# Load the dataset\n",
    "file_path = \"MIDMARKS.csv\"  # Update with the correct file path\n",
    "df = pd.read_csv(file_path)\n",
    "\n",
    "# Convert the DV column to numeric, handling errors\n",
    "df[\"DV\"] = pd.to_numeric(df[\"PP\"], errors=\"coerce\")\n",
    "\n",
    "# Define the passing mark\n",
    "passing_mark = 10\n",
    "\n",
    "# Filter the data for Section Alpha\n",
    "alpha_df = df[df[\"SECTION\"] == \"ALPHA\"]\n",
    "\n",
    "# Calculate pass probability\n",
    "total_students = len(alpha_df)\n",
    "students_passed = (alpha_df[\"PP\"] >= passing_mark).sum()\n",
    "pass_probability = students_passed / total_students\n",
    "\n",
    "# Output the result\n",
    "print(f\"Pass probability for DV in Section Alpha: {pass_probability:.4f}\")"
   ]
  },
  {
   "cell_type": "code",
   "execution_count": null,
   "id": "56f73409",
   "metadata": {},
   "outputs": [],
   "source": [
    "a.fillna(0)"
   ]
  },
  {
   "cell_type": "code",
   "execution_count": null,
   "id": "fb60cef2",
   "metadata": {},
   "outputs": [],
   "source": [
    "import pandas as pd\n",
    "\n",
    "# Load the dataset\n",
    "file_path = \"MIDMARKS.csv\"  # Update with the correct file path\n",
    "df = pd.read_csv(file_path)\n",
    "\n",
    "# Convert the DV column to numeric, handling errors\n",
    "df[\"DV\"] = pd.to_numeric(df[\"DV\"], errors=\"coerce\")\n",
    "\n",
    "# Define the passing mark\n",
    "passing_mark = 10\n",
    "\n",
    "# Filter the data for Section Alpha\n",
    "alpha_df = df[df[\"SECTION\"] == \"ALPHA\"]\n",
    "\n",
    "# Calculate pass probability\n",
    "total_students = len(alpha_df)\n",
    "students_passed = (alpha_df[\"DV\"] >= passing_mark).sum()\n",
    "pass_probability = students_passed / total_students\n",
    "\n",
    "# Output the result\n",
    "print(f\"Pass probability for DV in Section Alpha: {pass_probability:.4f}\")"
   ]
  },
  {
   "cell_type": "code",
   "execution_count": null,
   "id": "ad723b38",
   "metadata": {},
   "outputs": [],
   "source": [
    "import pandas as pd\n",
    "\n",
    "# Load the dataset\n",
    "file_path = \"MIDMARKS.csv\"  # Update with the correct file path\n",
    "df = pd.read_csv(file_path)\n",
    "\n",
    "# Convert the DV column to numeric, handling errors\n",
    "df[\"DV\"] = pd.to_numeric(df[\"DV\"], errors=\"coerce\")\n",
    "\n",
    "# Define the passing mark\n",
    "passing_mark = 10\n",
    "\n",
    "# Filter the data for Section Alpha\n",
    "alpha_df = df[df[\"SECTION\"] == \"BETA\"]\n",
    "\n",
    "# Calculate pass probability\n",
    "total_students = len(alpha_df)\n",
    "students_passed = (alpha_df[\"DV\"] >= passing_mark).sum()\n",
    "pass_probability = students_passed / total_students\n",
    "\n",
    "# Output the result\n",
    "print(f\"Pass probability for DV in Section Alpha: {pass_probability:.4f}\")"
   ]
  },
  {
   "cell_type": "code",
   "execution_count": null,
   "id": "7c18eeba",
   "metadata": {},
   "outputs": [],
   "source": [
    "import pandas as pd\n",
    "\n",
    "# Load the dataset\n",
    "file_path = \"MIDMARKS.csv\"  # Update with the correct file path\n",
    "df = pd.read_csv(file_path)\n",
    "\n",
    "# Convert the DV column to numeric, handling errors\n",
    "df[\"DV\"] = pd.to_numeric(df[\"DV\"], errors=\"coerce\")\n",
    "\n",
    "# Define the passing mark\n",
    "passing_mark = 10\n",
    "\n",
    "# Filter the data for Section Alpha\n",
    "alpha_df = df[df[\"SECTION\"] == \"GAMMA\"]\n",
    "\n",
    "# Calculate pass probability\n",
    "total_students = len(alpha_df)\n",
    "students_passed = (alpha_df[\"DV\"] >= passing_mark).sum()\n",
    "pass_probability = students_passed / total_students\n",
    "\n",
    "# Output the result\n",
    "print(f\"Pass probability for DV in Section Alpha: {pass_probability:.4f}\")"
   ]
  },
  {
   "cell_type": "code",
   "execution_count": null,
   "id": "db2b8ba3",
   "metadata": {},
   "outputs": [],
   "source": [
    "import pandas as pd\n",
    "\n",
    "# Load the dataset\n",
    "file_path = \"MIDMARKS.csv\"  # Update with the correct file path\n",
    "df = pd.read_csv(file_path)\n",
    "\n",
    "# Convert the DV column to numeric, handling errors\n",
    "df[\"DV\"] = pd.to_numeric(df[\"DV\"], errors=\"coerce\")\n",
    "\n",
    "# Define the passing mark\n",
    "passing_mark = 10\n",
    "\n",
    "# Filter the data for Section Alpha\n",
    "alpha_df = df[df[\"SECTION\"] == \"ZETA\"]\n",
    "\n",
    "# Calculate pass probability\n",
    "total_students = len(alpha_df)\n",
    "students_passed = (alpha_df[\"DV\"] >= passing_mark).sum()\n",
    "pass_probability = students_passed / total_students\n",
    "\n",
    "# Output the result\n",
    "print(f\"Pass probability for DV in Section Alpha: {pass_probability:.4f}\")"
   ]
  },
  {
   "cell_type": "code",
   "execution_count": null,
   "id": "bad56c04",
   "metadata": {},
   "outputs": [],
   "source": [
    "import pandas as pd\n",
    "\n",
    "# Load the dataset\n",
    "file_path = \"MIDMARKS.csv\"  # Update with the correct file path\n",
    "df = pd.read_csv(file_path)\n",
    "\n",
    "# Convert the DV column to numeric, handling errors\n",
    "df[\"DV\"] = pd.to_numeric(df[\"DV\"], errors=\"coerce\")\n",
    "\n",
    "# Define the passing mark\n",
    "passing_mark = 10\n",
    "\n",
    "# Filter the data for Section Alpha\n",
    "alpha_df = df[df[\"SECTION\"] == \"DELTA\"]\n",
    "\n",
    "# Calculate pass probability\n",
    "total_students = len(alpha_df)\n",
    "students_passed = (alpha_df[\"DV\"] >= passing_mark).sum()\n",
    "pass_probability = students_passed / total_students\n",
    "\n",
    "# Output the result\n",
    "print(f\"Pass probability for DV in Section DELTA: {pass_probability:.4f}\")"
   ]
  },
  {
   "cell_type": "code",
   "execution_count": null,
   "id": "b1c5eb08",
   "metadata": {},
   "outputs": [],
   "source": [
    "import pandas as pd\n",
    "\n",
    "# Load the dataset\n",
    "file_path = \"MIDMARKS.csv\"  # Update with the correct file path\n",
    "df = pd.read_csv(file_path)\n",
    "\n",
    "# Convert the DV column to numeric, handling errors\n",
    "df[\"DV\"] = pd.to_numeric(df[\"DV\"], errors=\"coerce\")\n",
    "\n",
    "# Define the passing mark\n",
    "passing_mark = 10\n",
    "\n",
    "# Filter the data for Section Alpha\n",
    "alpha_df = df[df[\"SECTION\"] == \"OMEGA\"]\n",
    "\n",
    "# Calculate pass probability\n",
    "total_students = len(alpha_df)\n",
    "students_passed = (alpha_df[\"DV\"] >= passing_mark).sum()\n",
    "pass_probability = students_passed / total_students\n",
    "\n",
    "# Output the result\n",
    "print(f\"Pass probability for DV in Section OMEGA: {pass_probability:.4f}\")"
   ]
  },
  {
   "cell_type": "code",
   "execution_count": null,
   "id": "549cd542",
   "metadata": {},
   "outputs": [],
   "source": [
    "import pandas as pd\n",
    "\n",
    "# Load the dataset\n",
    "file_path = \"MIDMARKS.csv\"  # Update with the correct file path\n",
    "df = pd.read_csv(file_path)\n",
    "\n",
    "# Convert the DV column to numeric, handling errors\n",
    "df[\"DV\"] = pd.to_numeric(df[\"DV\"], errors=\"coerce\")\n",
    "\n",
    "# Define the passing mark\n",
    "passing_mark = 10\n",
    "\n",
    "# Filter the data for Section Alpha\n",
    "alpha_df = df[df[\"SECTION\"] == \"EPSILON\"]\n",
    "\n",
    "# Calculate pass probability\n",
    "total_students = len(alpha_df)\n",
    "students_passed = (alpha_df[\"DV\"] >= passing_mark).sum()\n",
    "pass_probability = students_passed / total_students\n",
    "\n",
    "# Output the result\n",
    "print(f\"Pass probability for DV in Section EPSILON: {pass_probability:.4f}\")"
   ]
  },
  {
   "cell_type": "code",
   "execution_count": null,
   "id": "c326e4d8",
   "metadata": {},
   "outputs": [],
   "source": [
    "import pandas as pd\n",
    "\n",
    "# Load the dataset\n",
    "file_path = \"MIDMARKS.csv\"  # Update with the correct file path\n",
    "df = pd.read_csv(file_path)\n",
    "\n",
    "# Convert the DV column to numeric, handling errors\n",
    "df[\"DV\"] = pd.to_numeric(df[\"PP\"], errors=\"coerce\")\n",
    "\n",
    "# Define the passing mark\n",
    "passing_mark = 10\n",
    "\n",
    "# Filter the data for Section Alpha\n",
    "alpha_df = df[df[\"SECTION\"] == \"ALPHA\"]\n",
    "\n",
    "# Calculate pass probability\n",
    "total_students = len(alpha_df)\n",
    "students_passed = (alpha_df[\"PP\"] >= passing_mark).sum()\n",
    "pass_probability = students_passed / total_students\n",
    "\n",
    "# Output the result\n",
    "print(f\"Pass probability for DV in Section Alpha: {pass_probability:.4f}\")"
   ]
  },
  {
   "cell_type": "code",
   "execution_count": null,
   "id": "f126ec60",
   "metadata": {},
   "outputs": [],
   "source": [
    "a.fillna(0)"
   ]
  },
  {
   "cell_type": "code",
   "execution_count": null,
   "id": "460dcee3",
   "metadata": {},
   "outputs": [],
   "source": [
    "import pandas as pd\n",
    "\n",
    "# Load the dataset\n",
    "file_path = \"MIDMARKS.csv\"  # Update with the correct file path\n",
    "df = pd.read_csv(file_path)\n",
    "\n",
    "# Convert the DV column to numeric, handling errors\n",
    "df[\"DV\"] = pd.to_numeric(df[\"M-II\"], errors=\"coerce\")\n",
    "\n",
    "# Define the passing mark\n",
    "passing_mark = 10\n",
    "\n",
    "# Filter the data for Section Alpha\n",
    "alpha_df = df[df[\"SECTION\"] == \"ALPHA\"]\n",
    "\n",
    "# Calculate pass probability\n",
    "total_students = len(alpha_df)\n",
    "students_passed = (alpha_df[\"M-II\"] >= passing_mark).sum()\n",
    "pass_probability = students_passed / total_students\n",
    "\n",
    "# Output the result\n",
    "print(f\"Pass probability for DV in Section Alpha: {pass_probability:.4f}\")"
   ]
  },
  {
   "cell_type": "code",
   "execution_count": null,
   "id": "031e37b0",
   "metadata": {},
   "outputs": [],
   "source": [
    "import pandas as pd\n",
    "df = pd.read_csv(\"MIDMARKS.csv\")\n",
    "df = df.dropna(how='all')\n",
    "subjects = ['DV', 'M-II', 'PP', 'BEEE', 'FL', 'FIMS']\n",
    "df[subjects] = df[subjects].apply(pd.to_numeric, errors='coerce').fillna(0)\n",
    "if 'SECTION' in df.columns:\n",
    "    df['SECTION'] = df['SECTION'].str.strip().str.lower()\n",
    "    def calculate_probabilities(group):\n",
    "        stats = {'Total Students': len(group)}\n",
    "        for subject in subjects:\n",
    "            pass_count = (group[subject] >= 10).sum()\n",
    "            fail_count = (group[subject] < 10).sum()\n",
    "            stats[f'{subject} Pass Probability'] = pass_count / len(group)\n",
    "            stats[f'{subject} Fail Probability'] = fail_count / len(group)\n",
    "        return pd.Series(stats)\n",
    "    section_subject_probabilities = df.groupby('SECTION').apply(calculate_probabilities)\n",
    "    print(section_subject_probabilities)\n",
    "else:\n",
    "    print(\"No 'SECTION' column found in the dataset.\")"
   ]
  },
  {
   "cell_type": "code",
   "execution_count": null,
   "id": "230aa983",
   "metadata": {},
   "outputs": [],
   "source": [
    "df[\"DV\">10]"
   ]
  },
  {
   "cell_type": "code",
   "execution_count": null,
   "id": "790f0323",
   "metadata": {},
   "outputs": [],
   "source": [
    "a.fillna(0)"
   ]
  },
  {
   "cell_type": "code",
   "execution_count": null,
   "id": "c0572be9",
   "metadata": {},
   "outputs": [],
   "source": [
    "a=df[\"DV\">10]"
   ]
  },
  {
   "cell_type": "code",
   "execution_count": null,
   "id": "b3088cc1",
   "metadata": {},
   "outputs": [],
   "source": [
    "(df[\"DV\"] > 10).value_counts() / len(df)\n",
    "(df[\"M-II\"] > 10).value_counts() / len(df)\n",
    "(df[\"PP\"] > 10).value_counts() / len(df)\n",
    "(df[\"BEEE\"] > 10).value_counts() / len(df)\n",
    "(df[\"FL\"] > 10).value_counts() / len(df)\n",
    "(df[\"FIMS\"] > 10).value_counts() / len(df)"
   ]
  },
  {
   "cell_type": "code",
   "execution_count": null,
   "id": "d1b469b3",
   "metadata": {},
   "outputs": [],
   "source": [
    "(df[\"DV\"] > 10).value_counts() / len(df)\n"
   ]
  },
  {
   "cell_type": "code",
   "execution_count": null,
   "id": "8a9d35f4",
   "metadata": {},
   "outputs": [],
   "source": [
    "\n",
    "(df[\"M-II\"] > 10).value_counts() / len(df)\n"
   ]
  },
  {
   "cell_type": "code",
   "execution_count": null,
   "id": "99fbeba4",
   "metadata": {},
   "outputs": [],
   "source": [
    "\n",
    "(df[\"PP\"] > 10).value_counts() / len(df)\n"
   ]
  },
  {
   "cell_type": "code",
   "execution_count": null,
   "id": "0fa72995",
   "metadata": {},
   "outputs": [],
   "source": [
    "\n",
    "(df[\"BEEE\"] > 10).value_counts() / len(df)\n"
   ]
  },
  {
   "cell_type": "code",
   "execution_count": null,
   "id": "2d9ffa59",
   "metadata": {},
   "outputs": [],
   "source": [
    "\n",
    "(df[\"FL\"] > 10).value_counts() / len(df)\n"
   ]
  },
  {
   "cell_type": "code",
   "execution_count": null,
   "id": "3bad36e2",
   "metadata": {},
   "outputs": [],
   "source": [
    "df.info\n"
   ]
  },
  {
   "cell_type": "code",
   "execution_count": null,
   "id": "2759973b",
   "metadata": {},
   "outputs": [],
   "source": [
    "df[df[\"SECTION\"]==\"ALPHA\"].mean()"
   ]
  },
  {
   "cell_type": "code",
   "execution_count": null,
   "id": "af5ac854",
   "metadata": {},
   "outputs": [],
   "source": [
    "import pandas as pd\n",
    "\n",
    "# Load the CSV file\n",
    "df = pd.read_csv(\"MIDMARKS.csv\")  # Ensure the correct file path\n",
    "\n",
    "# Convert the \"DV\" column to numeric (if not already)\n",
    "df[\"DV\"] = pd.to_numeric(df[\"DV\"], errors=\"coerce\")\n",
    "\n",
    "# Calculate the sample mean for the \"ALPHA\" section\n",
    "alpha_dv_mean = df[df[\"SECTION\"] == \"ALPHA\"][\"DV\"].mean()\n",
    "\n"
   ]
  },
  {
   "cell_type": "code",
   "execution_count": null,
   "id": "e3e2b3ec",
   "metadata": {},
   "outputs": [],
   "source": [
    "alpha_dv_mean"
   ]
  },
  {
   "cell_type": "code",
   "execution_count": null,
   "id": "b8907c29",
   "metadata": {},
   "outputs": [],
   "source": [
    "import pandas as pd\n",
    "\n",
    "# Load the CSV file\n",
    "df = pd.read_csv(\"MIDMARKS.csv\")  # Ensure the correct file path\n",
    "\n",
    "# Convert the \"DV\" column to numeric (if not already)\n",
    "df[\"DV\"] = pd.to_numeric(df[\"DV\"], errors=\"coerce\")\n",
    "\n",
    "# Calculate the sample mean for the \"ALPHA\" section\n",
    "alpha_dv_mean = df[df[\"SECTION\"] == \"ALPHA\"][\"DV\"].mean()\n",
    "population_dv_mean=df[\"DV\"].mean\n",
    "\n"
   ]
  },
  {
   "cell_type": "code",
   "execution_count": null,
   "id": "b46323c1",
   "metadata": {},
   "outputs": [],
   "source": [
    "population_dv_mean"
   ]
  },
  {
   "cell_type": "code",
   "execution_count": null,
   "id": "5db29034",
   "metadata": {},
   "outputs": [],
   "source": [
    "std_data=df[df[\"SECTION\"]==\"ALPHA\"].std()"
   ]
  },
  {
   "cell_type": "code",
   "execution_count": null,
   "id": "8600841b",
   "metadata": {},
   "outputs": [],
   "source": [
    "std_data"
   ]
  },
  {
   "cell_type": "code",
   "execution_count": null,
   "id": "9558efa8",
   "metadata": {},
   "outputs": [],
   "source": [
    "std_data=df.groupby(['SECTION']).std()"
   ]
  },
  {
   "cell_type": "code",
   "execution_count": null,
   "id": "ad1f324e",
   "metadata": {},
   "outputs": [],
   "source": [
    "std_data"
   ]
  },
  {
   "cell_type": "code",
   "execution_count": null,
   "id": "5617f434",
   "metadata": {},
   "outputs": [],
   "source": [
    "df.shape"
   ]
  },
  {
   "cell_type": "code",
   "execution_count": null,
   "id": "0f07c381",
   "metadata": {},
   "outputs": [],
   "source": []
  }
 ],
 "metadata": {
  "kernelspec": {
   "display_name": "Python 3 (ipykernel)",
   "language": "python",
   "name": "python3"
  },
  "language_info": {
   "codemirror_mode": {
    "name": "ipython",
    "version": 3
   },
   "file_extension": ".py",
   "mimetype": "text/x-python",
   "name": "python",
   "nbconvert_exporter": "python",
   "pygments_lexer": "ipython3",
   "version": "3.9.12"
  }
 },
 "nbformat": 4,
 "nbformat_minor": 5
}
